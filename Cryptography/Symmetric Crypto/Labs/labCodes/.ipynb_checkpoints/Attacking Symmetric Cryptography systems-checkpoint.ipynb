{
 "cells": [
  {
   "cell_type": "markdown",
   "id": "e031a59c",
   "metadata": {},
   "source": [
    "# symmetric cryptography lab"
   ]
  },
  {
   "cell_type": "markdown",
   "id": "87645ce0",
   "metadata": {},
   "source": [
    "### lab setup\n",
    "* after building and running the docker image a server starts on localhost:5000\n",
    "* the server contains 8 labs named as \n",
    "\n",
    "| Lab Code | Lab Name               | File Name in Docker Image               | Code           |\n",
    "|----------|------------------------|----------------------------------------|----------------|\n",
    "| Lab 00   | Setup                  | -                                      | -              |\n",
    "| Lab 01   | Block size detection   | Lab_01_Block_size_detection.py         | /lab1_algo1 or /lab1_algo2 |\n",
    "| Lab 02   | Mode detection         | Lab_02_Mode_detection.py               | /lab2          |\n",
    "| Lab 03   | ECB byte at a time     | Lab_03_ECB_byte_at_a_time.py           | /lab3          |\n",
    "| Lab 04   | CBC IV detection       | Lab_04_CBC_IV_detection.py             | /lab4          |\n",
    "| Lab 05   | CBC bit flipping       | Lab_05_CBC_bit_flipping.py             | /lab5          |\n",
    "| Lab 06   | CBC byte at a time     | Lab_06_CBC_byte_at_a_time.py           | /lab6          |\n",
    "| Lab 07   | CBC padding            | Lab_07_CBC_padding.py                  | /lab7          |\n",
    "| Lab 08   | CTR Bit flipping       | Lab_08_CTR_Bit_flipping.py             | /lab8          |\n",
    "\n"
   ]
  },
  {
   "cell_type": "markdown",
   "id": "75700189",
   "metadata": {},
   "source": [
    "* to access any lab we will use `get_result(lab_name , input_data , byte_object = False)` function below\n",
    "* use the lab code listed in the table above to access the lab as `get_result(\"lab3\" , 'plain text' , byte_object=True)`\n",
    "* the function connects to the server, send a requests' payload and return the resuld\n",
    "* the result is formated in text format represents hex values as `e0 38 06 01 7a 30 bb 37 e9 9d 4c 89 ed 3a 0e 8b`\n",
    "* to convert the hex string to byte object for easier calculations `byte_object` to `True`"
   ]
  },
  {
   "cell_type": "code",
   "execution_count": 146,
   "id": "312de51f",
   "metadata": {},
   "outputs": [
    {
     "name": "stdout",
     "output_type": "stream",
     "text": [
      "hex as string a2 3e 20 f1 a1 4b 36 59 cc 8f b4 90 e1 2d ca 0d 5c f9 d9 43 b8 77 dc 48 35 4a 54 98 e5 d4 c4 28\n",
      "byte objct    b'\\xa2> \\xf1\\xa1K6Y\\xcc\\x8f\\xb4\\x90\\xe1-\\xca\\r\\\\\\xf9\\xd9C\\xb8w\\xdcH5JT\\x98\\xe5\\xd4\\xc4('\n"
     ]
    }
   ],
   "source": [
    "import requests\n",
    "\n",
    "def get_result(lab_name , input_data , byte_object = False):\n",
    "    try:\n",
    "        url = f'http://localhost:5000/{lab_name}'\n",
    "        input_string = input_data\n",
    "        payload = {'text': input_string}\n",
    "        response = requests.post(url, data=payload)\n",
    "        if byte_object == False:\n",
    "            return response.text\n",
    "        else:\n",
    "            return bytes.fromhex(response.text.replace(' ', ''))\n",
    "    except:\n",
    "        pass\n",
    "\n",
    "# example of dealing with lab environment\n",
    "print(\"hex as string\" , get_result(\"lab3\" , \"plain\"))\n",
    "print(\"byte objct   \" , get_result(\"lab3\" , \"plain\" , byte_object=True ))"
   ]
  },
  {
   "cell_type": "markdown",
   "id": "9c78298a",
   "metadata": {},
   "source": [
    "# Lab 01 : Block size detection"
   ]
  },
  {
   "cell_type": "markdown",
   "id": "53dc5368",
   "metadata": {},
   "source": [
    "## 01 - Detect block size \n",
    "* this lab has 2 algorithms whict can be accessed as \n",
    "    * lab1_algo1\n",
    "    * lab1_algo2"
   ]
  },
  {
   "cell_type": "markdown",
   "id": "263644d5",
   "metadata": {},
   "source": [
    "### 01 - detect block size of algorithem 1"
   ]
  },
  {
   "cell_type": "code",
   "execution_count": 118,
   "id": "86676f15",
   "metadata": {},
   "outputs": [
    {
     "name": "stdout",
     "output_type": "stream",
     "text": [
      "plain text length\t 5 \tcipher text length\t 16\n",
      "plain text length\t 6 \tcipher text length\t 16\n",
      "plain text length\t 7 \tcipher text length\t 16\n",
      "plain text length\t 8 \tcipher text length\t 16\n",
      "plain text length\t 9 \tcipher text length\t 16\n",
      "plain text length\t 10 \tcipher text length\t 16\n",
      "plain text length\t 11 \tcipher text length\t 16\n",
      "plain text length\t 12 \tcipher text length\t 16\n",
      "plain text length\t 13 \tcipher text length\t 16\n",
      "plain text length\t 14 \tcipher text length\t 16\n",
      "plain text length\t 15 \tcipher text length\t 16\n",
      "plain text length\t 16 \tcipher text length\t 16\n",
      "plain text length\t 17 \tcipher text length\t 32\n",
      "plain text length\t 18 \tcipher text length\t 32\n",
      "plain text length\t 19 \tcipher text length\t 32\n"
     ]
    }
   ],
   "source": [
    "for i in range(5 , 20):\n",
    "    cipher_text = get_result(\"lab1_algo1\" , 'A'*i , byte_object=True)\n",
    "    print(\"plain text length\\t\" , i , \"\\tcipher text length\\t\" , len(cipher_text))"
   ]
  },
  {
   "cell_type": "markdown",
   "id": "de0c0472",
   "metadata": {},
   "source": [
    "* the algorithem is mostly AES due to the block size and the wide use of AES"
   ]
  },
  {
   "cell_type": "markdown",
   "id": "a588a189",
   "metadata": {},
   "source": [
    "### 01 - detect block size of algorithem 2"
   ]
  },
  {
   "cell_type": "code",
   "execution_count": 119,
   "id": "692d24cc",
   "metadata": {},
   "outputs": [
    {
     "name": "stdout",
     "output_type": "stream",
     "text": [
      "plain text length\t 5 \tcipher text length\t 8\n",
      "plain text length\t 6 \tcipher text length\t 8\n",
      "plain text length\t 7 \tcipher text length\t 8\n",
      "plain text length\t 8 \tcipher text length\t 8\n",
      "plain text length\t 9 \tcipher text length\t 16\n",
      "plain text length\t 10 \tcipher text length\t 16\n",
      "plain text length\t 11 \tcipher text length\t 16\n",
      "plain text length\t 12 \tcipher text length\t 16\n",
      "plain text length\t 13 \tcipher text length\t 16\n",
      "plain text length\t 14 \tcipher text length\t 16\n",
      "plain text length\t 15 \tcipher text length\t 16\n",
      "plain text length\t 16 \tcipher text length\t 16\n",
      "plain text length\t 17 \tcipher text length\t 24\n",
      "plain text length\t 18 \tcipher text length\t 24\n",
      "plain text length\t 19 \tcipher text length\t 24\n"
     ]
    }
   ],
   "source": [
    "for i in range(5 , 20):\n",
    "    cipher_text = get_result(\"lab1_algo2\" , 'A'*i , byte_object=True)\n",
    "    print(\"plain text length\\t\" , i , \"\\tcipher text length\\t\" , len(cipher_text))"
   ]
  },
  {
   "cell_type": "markdown",
   "id": "69098923",
   "metadata": {},
   "source": [
    "* the algorithem is DES due to the 8 bytes block size"
   ]
  },
  {
   "cell_type": "markdown",
   "id": "578a316e",
   "metadata": {},
   "source": [
    "#### here are some of block cipher encryption algorithms and it's corresponding block size and key size\n",
    "| Algorithm                                   | Block Size (bytes) | Key Size (bits) |\n",
    "|---------------------------------------------|--------------------|-----------------|\n",
    "| AES (Advanced Encryption Standard)           | 16                 | 128, 192, 256   |\n",
    "| DES (Data Encryption Standard)               | 8                  | 56               |\n",
    "| Triple DES (3DES)                            | 8                  | 168              |\n",
    "| Blowfish                                     | 8                  | 32 to 448        |\n",
    "| Twofish                                      | 16                 | 128, 192, 256   |\n",
    "| Camellia                                     | 16                 | 128, 192, 256   |\n",
    "| Serpent                                      | 16                 | 128, 192, 256   |\n",
    "| IDEA (International Data Encryption Algorithm)| 8                  | 128              |\n",
    "| CAST-128                                     | 8                  | 40 to 128        |\n"
   ]
  },
  {
   "cell_type": "markdown",
   "id": "173ca026",
   "metadata": {},
   "source": [
    "# Lab 02 : mode detection"
   ]
  },
  {
   "cell_type": "code",
   "execution_count": 120,
   "id": "cb3e4a2d",
   "metadata": {},
   "outputs": [
    {
     "name": "stdout",
     "output_type": "stream",
     "text": [
      "ECB-mode       87 4a de 45 9a da aa 84 45 f2 e7 5c e9 68 26 95 87 4a de 45 9a da aa 84 45 f2 e7 5c e9 68 26 95\n",
      "noneECB-mode   ed 11 7c 6a 33 12 7a 6c cc f8 8e df 4e f5 7a 7e 41 d0 12 0f 5f b8 df 2f 5b 42 70 2b e4 34 ab 38\n"
     ]
    }
   ],
   "source": [
    "print('ECB-mode      ' , get_result(\"lab2_algo1\" , b\"aaaaaaaaaaaaaaaaaaaaaaaaaaaaaaaa\")) # 2 block encrypted with ECB\n",
    "print('noneECB-mode  ' , get_result(\"lab2_algo2\" , b\"aaaaaaaaaaaaaaaaaaaaaaaaaaaaaaaa\")) # 2 block encrypted with CBC"
   ]
  },
  {
   "cell_type": "markdown",
   "id": "18568efd",
   "metadata": {},
   "source": [
    "the 2 blocks resulted the same cipher text in ECB mode\n",
    "\n",
    "\n",
    "* AES-ECB-mode <span style=\"color: gray;\">87 4a de 45 9a da aa 84 45 f2 e7 5c e9 68 26 95</span>\n",
    "               <span style=\"color: gray;\">87 4a de 45 9a da aa 84 45 f2 e7 5c e9 68 26 95</span>\n",
    "\n",
    "the 2 blocks resulted the diffrent cipher text in ECB mode\n",
    "* AES-CBC-mode <span style=\"color: green;\">ed 11 7c 6a 33 12 7a 6c cc f8 8e df 4e f5 7a 7e </span>\n",
    "               <span style=\"color: blue;\">41 d0 12 0f 5f b8 df 2f 5b 42 70 2b e4 34 ab 38</span>"
   ]
  },
  {
   "cell_type": "markdown",
   "id": "d4286bd4",
   "metadata": {},
   "source": [
    "# Lab 03 : ECB byte at a time"
   ]
  },
  {
   "cell_type": "markdown",
   "id": "27cddcc5",
   "metadata": {},
   "source": [
    "#### 1 - get block size"
   ]
  },
  {
   "cell_type": "markdown",
   "id": "9ae256d7",
   "metadata": {},
   "source": [
    "![Alt Text](Asset1.png)"
   ]
  },
  {
   "cell_type": "code",
   "execution_count": 147,
   "id": "4434f9ae",
   "metadata": {},
   "outputs": [
    {
     "name": "stdout",
     "output_type": "stream",
     "text": [
      "1    32    b\"\\xe8\\xc6\\x97\\xeb\\xa3#'b\\xbdb\\x86\\xdb\\x813zR\\xe24\\xfd\\xe5\\xb3\\xc0U\\xd8\\x17?k\\xd6q%\\xc3\\x8d\"\n",
      "2    32    b'\\x89\\xc0\\xb53\\x03\\x8co\\x1d\\xfcZ\":\\xe5\\xf0\\x94\\xc6\\xce\\xa8\\xc2W}\\rF\\x8b\\xd4\\x93:]\\xac7\\xbbM'\n",
      "3    32    b'\\xfb\\xc5\\xd3\\xbb\\x81\\x85\\xc7:\\xe1\\xb6+>\\x11f\\xaf7\\x19\\x7fWkM\\x954?az\\x9f%5e\\xe5n'\n",
      "4    32    b\"\\xaf\\x84Q`\\xc8\\x95\\xe9'\\xd3\\x05\\xd6\\x8a\\xec\\xc0C\\xb3\\xe9\\x1e\\xc0\\xe0\\xf4k`\\xec\\xd0\\x81/f\\x98\\xf2\\xf1c\"\n",
      "5    32    b'\\r\\x8f\\xb9A\\xca\\xb8w\\x1f\\x16g.\\xf9\\x91\\x11\\x80\\x16\\\\\\xf9\\xd9C\\xb8w\\xdcH5JT\\x98\\xe5\\xd4\\xc4('\n",
      "6    32    b'(\\x91\\x84tM-\\x96\\xa0\\xed;\\x91\\xbfD\\xf8\\xa6\\x9d\\x90\\xa7\\xe4QRBgP\\tSFg\\xe7aD\\xaa'\n",
      "7    32    b'\\x0b\\xb1U\\x05\\xdd\\x06j\\xf4\\x9b\\xa7\\x19\\x93&\\x1d\\x8c-\\x9f\\x80|\\xe1OF*\\xbd%\\x8f\\x92:I\\x16\\x8e\\xcd'\n",
      "8    32    b'#\\xee\\xb0\\x9e\\x96\\xee\\x86\\xca\\xb2\"\\xff:\\xbf\\xde\\x8b\\xb9n=\\x12\\xe48\\x15\\xed\\x9fn\\x98\\xd0\\x91^\\xaf\\xa0\\xa2'\n",
      "9    32    b'SY\\xee\\xb9\\xfd0\\xc1\\xf7\\x87\\xcbr\\xcda\\xd9\\x15j\\x046[\\x1a\\xe7(\\xd8\\xa5\\xebiU\\xb3\\x89\\xa0\\x16\\xf8'\n",
      "10    32    b'\\xb9\\x033\\xc1\\xe2<\\x1a-\\x99\\xc2o\\xba\\x9cb|\\xffx\\xde\\x0b!\\xeb;\\xc5\\x9a\\x016\\x15\\xcd\\x18/$\\x8b'\n",
      "11    32    b\"\\xf4j\\x8e\\xd6\\x04\\xd1\\x0c\\xdd\\x9cD'i\\xaf\\xdb\\xa0\\x88\\x85\\x1d~\\x02\\xcer\\xc1q\\t\\xe9\\xb8q\\xa1\\xadv\\t\"\n",
      "12    32    b'[\\x1c\\x19h%w\\xefh\\xc6\\xd48\\x9b:u\\xf9@\\xf0\\xee\\\\\\x03\\xe3\\x18\\xcaV=\\xe5\\xd9\\x9a\\x0f\\xa2\\xab\\xdd'\n",
      "13    32    b'V\\t4\\x8e\\xd7\\x99\\xc7\\x85\\x85Z\\x0c\\x8e\\xef\\x8b\\xd34\\xeb\\x10q\\x94\\xed\\xdc\\xa5\\xc3\\xbcaS\\xba\\xcc\\xdc\\x04\\xbc'\n",
      "14    32    b'EM\\xc1\\xc2\\x97\\x95\\xbd/\\xc9\\xb7w\\xb9f\\xd4tI\\xd2G\\xbe\\xb3\\x9d\\x93\\xe3\\xdb<0\\xde\\xe0\\x18!\\x19\\x9e'\n",
      "15    32    b\"\\x8e\\xf0\\x9f\\xee\\xad\\x0bES\\xf2a8\\xb2\\xb2<'\\xcf92\\x16\\xcf\\xc3\\xefdS\\x08,\\xa0L\\x95\\x0c\\x1d\\xbd\"\n",
      "16    32    b'\\x87J\\xdeE\\x9a\\xda\\xaa\\x84E\\xf2\\xe7\\\\\\xe9h&\\x95\\xe08\\x06\\x01z0\\xbb7\\xe9\\x9dL\\x89\\xed:\\x0e\\x8b'\n",
      "17    48    b\"\\x87J\\xdeE\\x9a\\xda\\xaa\\x84E\\xf2\\xe7\\\\\\xe9h&\\x95\\xe8\\xc6\\x97\\xeb\\xa3#'b\\xbdb\\x86\\xdb\\x813zR\\xe24\\xfd\\xe5\\xb3\\xc0U\\xd8\\x17?k\\xd6q%\\xc3\\x8d\"\n",
      "18    48    b'\\x87J\\xdeE\\x9a\\xda\\xaa\\x84E\\xf2\\xe7\\\\\\xe9h&\\x95\\x89\\xc0\\xb53\\x03\\x8co\\x1d\\xfcZ\":\\xe5\\xf0\\x94\\xc6\\xce\\xa8\\xc2W}\\rF\\x8b\\xd4\\x93:]\\xac7\\xbbM'\n",
      "19    48    b'\\x87J\\xdeE\\x9a\\xda\\xaa\\x84E\\xf2\\xe7\\\\\\xe9h&\\x95\\xfb\\xc5\\xd3\\xbb\\x81\\x85\\xc7:\\xe1\\xb6+>\\x11f\\xaf7\\x19\\x7fWkM\\x954?az\\x9f%5e\\xe5n'\n"
     ]
    }
   ],
   "source": [
    "for i in range(1,20):\n",
    "    cipher_text = get_result(\"lab3\" , \"a\"*i  , byte_object=True)\n",
    "    print(i , \"  \" , len(cipher_text), \"  \" , cipher_text)\n",
    "#     print(len(cipher_text))"
   ]
  },
  {
   "cell_type": "markdown",
   "id": "c6734983",
   "metadata": {},
   "source": [
    "* block size = 16\n",
    "* secret size is 16 byte also (because the number of cipher block starts to increase when the plain text size was 16)\n",
    "* the mode is ECB , note the first cipher block when plain text length is more than 16\n"
   ]
  },
  {
   "cell_type": "markdown",
   "id": "4f603fe7",
   "metadata": {},
   "source": [
    "#### 2 - get first the cipher block for data length from 0 to 16"
   ]
  },
  {
   "cell_type": "code",
   "execution_count": 158,
   "id": "91e676fb",
   "metadata": {},
   "outputs": [
    {
     "data": {
      "text/plain": [
       "[b'\\xe08\\x06\\x01z0\\xbb7\\xe9\\x9dL\\x89\\xed:\\x0e\\x8b',\n",
       " b\"\\xe8\\xc6\\x97\\xeb\\xa3#'b\\xbdb\\x86\\xdb\\x813zR\",\n",
       " b'\\x89\\xc0\\xb53\\x03\\x8co\\x1d\\xfcZ\":\\xe5\\xf0\\x94\\xc6',\n",
       " b'\\xfb\\xc5\\xd3\\xbb\\x81\\x85\\xc7:\\xe1\\xb6+>\\x11f\\xaf7',\n",
       " b\"\\xaf\\x84Q`\\xc8\\x95\\xe9'\\xd3\\x05\\xd6\\x8a\\xec\\xc0C\\xb3\",\n",
       " b'\\r\\x8f\\xb9A\\xca\\xb8w\\x1f\\x16g.\\xf9\\x91\\x11\\x80\\x16',\n",
       " b'(\\x91\\x84tM-\\x96\\xa0\\xed;\\x91\\xbfD\\xf8\\xa6\\x9d',\n",
       " b'\\x0b\\xb1U\\x05\\xdd\\x06j\\xf4\\x9b\\xa7\\x19\\x93&\\x1d\\x8c-',\n",
       " b'#\\xee\\xb0\\x9e\\x96\\xee\\x86\\xca\\xb2\"\\xff:\\xbf\\xde\\x8b\\xb9',\n",
       " b'SY\\xee\\xb9\\xfd0\\xc1\\xf7\\x87\\xcbr\\xcda\\xd9\\x15j',\n",
       " b'\\xb9\\x033\\xc1\\xe2<\\x1a-\\x99\\xc2o\\xba\\x9cb|\\xff',\n",
       " b\"\\xf4j\\x8e\\xd6\\x04\\xd1\\x0c\\xdd\\x9cD'i\\xaf\\xdb\\xa0\\x88\",\n",
       " b'[\\x1c\\x19h%w\\xefh\\xc6\\xd48\\x9b:u\\xf9@',\n",
       " b'V\\t4\\x8e\\xd7\\x99\\xc7\\x85\\x85Z\\x0c\\x8e\\xef\\x8b\\xd34',\n",
       " b'EM\\xc1\\xc2\\x97\\x95\\xbd/\\xc9\\xb7w\\xb9f\\xd4tI',\n",
       " b\"\\x8e\\xf0\\x9f\\xee\\xad\\x0bES\\xf2a8\\xb2\\xb2<'\\xcf\"]"
      ]
     },
     "execution_count": 158,
     "metadata": {},
     "output_type": "execute_result"
    }
   ],
   "source": [
    "secret_string_length = 16\n",
    "first_cipher_blocks = []\n",
    "for i in range(0,secret_string_length):\n",
    "    first_cipher_blocks.append(get_result(\"lab3\" , 'a'*i , byte_object=True)[:16])\n",
    "\n",
    "first_cipher_blocks"
   ]
  },
  {
   "cell_type": "markdown",
   "id": "01973a3e",
   "metadata": {},
   "source": [
    "#### 3 - try to brute force the secret string"
   ]
  },
  {
   "cell_type": "code",
   "execution_count": 160,
   "id": "0a5585ec",
   "metadata": {},
   "outputs": [
    {
     "data": {
      "text/plain": [
       "b'MAHARA_TECH_2023'"
      ]
     },
     "execution_count": 160,
     "metadata": {},
     "output_type": "execute_result"
    }
   ],
   "source": [
    "block_size = 16\n",
    "secret = b''\n",
    "for j in range(secret_string_length , -1 , -1):\n",
    "    for i in range(255):\n",
    "        plain_text = b\"a\"*j + secret + i.to_bytes(1, 'big')\n",
    "        generated_ciphertext = get_result(\"lab3\" , plain_text , byte_object=True)\n",
    "        if generated_ciphertext[:block_size] in first_cipher_blocks:\n",
    "            secret = secret + i.to_bytes(1 , 'big')\n",
    "            break\n",
    "secret"
   ]
  },
  {
   "cell_type": "markdown",
   "id": "d9f31526",
   "metadata": {},
   "source": [
    "# Lab 04 : CBC IV detection"
   ]
  },
  {
   "cell_type": "code",
   "execution_count": 203,
   "id": "6900dda5",
   "metadata": {},
   "outputs": [
    {
     "data": {
      "text/plain": [
       "'01 6a 96 de 34 ae f6 2b fd 1c 39 47 6b 26 08 45'"
      ]
     },
     "execution_count": 203,
     "metadata": {},
     "output_type": "execute_result"
    }
   ],
   "source": [
    "get_result('lab4_enc' , \"salah\")"
   ]
  },
  {
   "cell_type": "code",
   "execution_count": 272,
   "id": "e59db646",
   "metadata": {},
   "outputs": [
    {
     "data": {
      "text/plain": [
       "b'this is an error message \"cipher text must be multiple of block size\" '"
      ]
     },
     "execution_count": 272,
     "metadata": {},
     "output_type": "execute_result"
    }
   ],
   "source": [
    "get_result('lab4_dec' , \"61 61 61 61 61 61 61 61 61 61 61 61 61 61 61 61 00 00 00 00 00 00 00 00 00 00 00 00 00 00 00 00 61 61 61 61 61 61 61 61 61 61 61 61 61 61 61 61\" , byte_object=True)"
   ]
  },
  {
   "cell_type": "code",
   "execution_count": 196,
   "id": "515f60c9",
   "metadata": {},
   "outputs": [
    {
     "data": {
      "text/plain": [
       "b'salah'"
      ]
     },
     "execution_count": 196,
     "metadata": {},
     "output_type": "execute_result"
    }
   ],
   "source": [
    "get_result('lab4_dec' , get_result('lab4_enc' , \"salah\") , byte_object=True)"
   ]
  },
  {
   "cell_type": "code",
   "execution_count": null,
   "id": "5b5c0741",
   "metadata": {},
   "outputs": [],
   "source": []
  },
  {
   "cell_type": "code",
   "execution_count": 200,
   "id": "3ec486df",
   "metadata": {},
   "outputs": [
    {
     "name": "stdout",
     "output_type": "stream",
     "text": [
      "61 61 61 61 61 61 61 61 61 61 61 61 61 61 61 61 00 00 00 00 00 00 00 00 00 00 00 00 00 00 00 00 61 61 61 61 61 61 61 61 61 61 61 61 61 61 61 61\n"
     ]
    }
   ],
   "source": [
    "byte_obj = b'a'*16 + b'\\x00'*16 + b'a'*16\n",
    "hex_string = byte_obj.hex()\n",
    "\n",
    "# Insert a space between each pair of characters\n",
    "spaced_hex_string = ' '.join(hex_string[i:i+2] for i in range(0, len(hex_string), 2))\n",
    "\n",
    "print(spaced_hex_string)\n"
   ]
  }
 ],
 "metadata": {
  "kernelspec": {
   "display_name": "Python 3 (ipykernel)",
   "language": "python",
   "name": "python3"
  },
  "language_info": {
   "codemirror_mode": {
    "name": "ipython",
    "version": 3
   },
   "file_extension": ".py",
   "mimetype": "text/x-python",
   "name": "python",
   "nbconvert_exporter": "python",
   "pygments_lexer": "ipython3",
   "version": "3.10.9"
  }
 },
 "nbformat": 4,
 "nbformat_minor": 5
}
