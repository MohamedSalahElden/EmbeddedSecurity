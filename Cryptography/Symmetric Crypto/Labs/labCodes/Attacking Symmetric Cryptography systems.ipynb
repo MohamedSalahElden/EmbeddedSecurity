{
 "cells": [
  {
   "attachments": {},
   "cell_type": "markdown",
   "id": "e031a59c",
   "metadata": {},
   "source": [
    "# symmetric cryptography lab"
   ]
  },
  {
   "attachments": {},
   "cell_type": "markdown",
   "id": "43655212",
   "metadata": {},
   "source": [
    "### lab setup\n",
    "* after building and running the docker image a server starts on localhost:5000\n",
    "* the server contains 8 labs named as \n",
    "\n",
    "| Lab Code | Lab Name               | File Name in Docker Image               | Path           |\n",
    "|----------|------------------------|----------------------------------------|----------------|\n",
    "| Lab 00   | Setup                  | -                                      | -              |\n",
    "| Lab 01   | Block size detection   | Lab_01_Block_size_detection.py         | /lab1_algo1 , /lab1_algo2 |\n",
    "| Lab 02   | Mode detection         | Lab_02_Mode_detection.py               | /lab2_algo1 , /lab2_algo2          |\n",
    "| Lab 03   | ECB byte at a time     | Lab_03_ECB_byte_at_a_time.py           | /lab3          |\n",
    "| Lab 04   | CBC IV detection       | Lab_04_CBC_IV_detection.py             | /lab4_enc , /lab4_dec         |\n",
    "| Lab 05   | CBC bit flipping       | Lab_05_CBC_bit_flipping.py             | /lab5_generate_cookie , /lab5_login           |\n",
    "| Lab 06   | CBC byte at a time     | Lab_06_CBC_byte_at_a_time.py           | /lab6          |\n",
    "| Lab 07   | CBC padding            | Lab_07_CBC_padding.py                  | /lab7          |\n",
    "| Lab 08   | CTR Bit flipping       | Lab_08_CTR_Bit_flipping.py             | /lab8          |\n",
    "\n"
   ]
  },
  {
   "attachments": {},
   "cell_type": "markdown",
   "id": "a9aeb5f0",
   "metadata": {},
   "source": [
    "* to access any lab we will use `get_result(lab_name , input_data , byte_object = False)` function below\n",
    "* use the lab code listed in the table above to access the lab as `get_result(\"lab3\" , 'plain text' , byte_object=True)`\n",
    "* the function connects to the server, send a requests' payload and return the resuld\n",
    "* the result is formated in text format represents hex values as `e0 38 06 01 7a 30 bb 37 e9 9d 4c 89 ed 3a 0e 8b`\n",
    "* to convert the hex string to byte object for easier calculations `byte_object` to `True`"
   ]
  },
  {
   "cell_type": "code",
   "execution_count": 2,
   "id": "6e909bc7",
   "metadata": {},
   "outputs": [
    {
     "name": "stdout",
     "output_type": "stream",
     "text": [
      "hex as string f4 1e 89 34 80 36 bc 84 b1 c7 55 17 7e 05 40 75 78 de 0b 21 eb 3b c5 9a 01 36 15 cd 18 2f 24 8b\n",
      "byte objct    b'\\xf4\\x1e\\x894\\x806\\xbc\\x84\\xb1\\xc7U\\x17~\\x05@ux\\xde\\x0b!\\xeb;\\xc5\\x9a\\x016\\x15\\xcd\\x18/$\\x8b'\n"
     ]
    }
   ],
   "source": [
    "import requests\n",
    "\n",
    "def get_result(lab_name , input_data , byte_object = False):\n",
    "    try:\n",
    "        url = f'http://localhost:5000/{lab_name}'\n",
    "        input_string = input_data\n",
    "        payload = {'text': input_string}\n",
    "        response = requests.post(url, data=payload)\n",
    "        if byte_object == False:\n",
    "            return response.text\n",
    "        else:\n",
    "            return bytes.fromhex(response.text.replace(' ', ''))\n",
    "    except:\n",
    "        pass\n",
    "\n",
    "# example of dealing with lab environment\n",
    "print(\"hex as string\" , get_result(\"lab3\" , \"plain text\"))\n",
    "print(\"byte objct   \" , get_result(\"lab3\" , \"plain text\" , byte_object=True ))"
   ]
  },
  {
   "attachments": {},
   "cell_type": "markdown",
   "id": "9c78298a",
   "metadata": {},
   "source": [
    "# Lab 01 : Block size detection"
   ]
  },
  {
   "attachments": {},
   "cell_type": "markdown",
   "id": "53dc5368",
   "metadata": {},
   "source": [
    "## 01 - Detect block size \n",
    "* this lab has 2 algorithms whict can be accessed as \n",
    "    * lab1_algo1\n",
    "    * lab1_algo2"
   ]
  },
  {
   "attachments": {},
   "cell_type": "markdown",
   "id": "517cfd86",
   "metadata": {},
   "source": [
    "### 01 - detect block size of algorithem 1"
   ]
  },
  {
   "cell_type": "code",
   "execution_count": 173,
   "id": "62289e48",
   "metadata": {},
   "outputs": [
    {
     "name": "stdout",
     "output_type": "stream",
     "text": [
      "plain text length\t 5 \tcipher text length\t 16\n",
      "plain text length\t 6 \tcipher text length\t 16\n",
      "plain text length\t 7 \tcipher text length\t 16\n",
      "plain text length\t 8 \tcipher text length\t 16\n",
      "plain text length\t 9 \tcipher text length\t 16\n",
      "plain text length\t 10 \tcipher text length\t 16\n",
      "plain text length\t 11 \tcipher text length\t 16\n",
      "plain text length\t 12 \tcipher text length\t 16\n",
      "plain text length\t 13 \tcipher text length\t 16\n",
      "plain text length\t 14 \tcipher text length\t 16\n",
      "plain text length\t 15 \tcipher text length\t 16\n",
      "plain text length\t 16 \tcipher text length\t 16\n",
      "plain text length\t 17 \tcipher text length\t 32\n",
      "plain text length\t 18 \tcipher text length\t 32\n",
      "plain text length\t 19 \tcipher text length\t 32\n"
     ]
    }
   ],
   "source": [
    "for i in range(5 , 20):\n",
    "    cipher_text = get_result(\"lab1_algo1\" , 'A'*i , byte_object=True)\n",
    "    print(\"plain text length\\t\" , i , \"\\tcipher text length\\t\" , len(cipher_text))"
   ]
  },
  {
   "attachments": {},
   "cell_type": "markdown",
   "id": "44be648e",
   "metadata": {},
   "source": [
    "* the algorithem is mostly AES due to the block size and the wide use of AES"
   ]
  },
  {
   "attachments": {},
   "cell_type": "markdown",
   "id": "210cb13e",
   "metadata": {},
   "source": [
    "### 01 - detect block size of algorithem 2"
   ]
  },
  {
   "cell_type": "code",
   "execution_count": 174,
   "id": "8adf94d3",
   "metadata": {},
   "outputs": [
    {
     "name": "stdout",
     "output_type": "stream",
     "text": [
      "plain text length\t 5 \tcipher text length\t 8\n",
      "plain text length\t 6 \tcipher text length\t 8\n",
      "plain text length\t 7 \tcipher text length\t 8\n",
      "plain text length\t 8 \tcipher text length\t 8\n",
      "plain text length\t 9 \tcipher text length\t 16\n",
      "plain text length\t 10 \tcipher text length\t 16\n",
      "plain text length\t 11 \tcipher text length\t 16\n",
      "plain text length\t 12 \tcipher text length\t 16\n",
      "plain text length\t 13 \tcipher text length\t 16\n",
      "plain text length\t 14 \tcipher text length\t 16\n",
      "plain text length\t 15 \tcipher text length\t 16\n",
      "plain text length\t 16 \tcipher text length\t 16\n",
      "plain text length\t 17 \tcipher text length\t 24\n",
      "plain text length\t 18 \tcipher text length\t 24\n",
      "plain text length\t 19 \tcipher text length\t 24\n"
     ]
    }
   ],
   "source": [
    "for i in range(5 , 20):\n",
    "    cipher_text = get_result(\"lab1_algo2\" , 'A'*i , byte_object=True)\n",
    "    print(\"plain text length\\t\" , i , \"\\tcipher text length\\t\" , len(cipher_text))"
   ]
  },
  {
   "attachments": {},
   "cell_type": "markdown",
   "id": "c9eac1d5",
   "metadata": {},
   "source": [
    "* the algorithem is DES due to the 8 bytes block size"
   ]
  },
  {
   "attachments": {},
   "cell_type": "markdown",
   "id": "12587212",
   "metadata": {},
   "source": [
    "#### here are some of block cipher encryption algorithms and it's corresponding block size and key size\n",
    "| Algorithm                                   | Block Size (bytes) | Key Size (bits) |\n",
    "|---------------------------------------------|--------------------|-----------------|\n",
    "| AES (Advanced Encryption Standard)           | 16                 | 128, 192, 256   |\n",
    "| DES (Data Encryption Standard)               | 8                  | 56               |\n",
    "| Triple DES (3DES)                            | 8                  | 168              |\n",
    "| Blowfish                                     | 8                  | 32 to 448        |\n",
    "| Twofish                                      | 16                 | 128, 192, 256   |\n",
    "| Camellia                                     | 16                 | 128, 192, 256   |\n",
    "| Serpent                                      | 16                 | 128, 192, 256   |\n",
    "| IDEA (International Data Encryption Algorithm)| 8                  | 128              |\n",
    "| CAST-128                                     | 8                  | 40 to 128        |\n"
   ]
  },
  {
   "attachments": {},
   "cell_type": "markdown",
   "id": "173ca026",
   "metadata": {},
   "source": [
    "# Lab 02 : mode detection"
   ]
  },
  {
   "cell_type": "code",
   "execution_count": 175,
   "id": "224e9a1c",
   "metadata": {},
   "outputs": [
    {
     "name": "stdout",
     "output_type": "stream",
     "text": [
      "ECB-mode       87 4a de 45 9a da aa 84 45 f2 e7 5c e9 68 26 95 87 4a de 45 9a da aa 84 45 f2 e7 5c e9 68 26 95\n",
      "noneECB-mode   12 09 72 eb 83 c8 5f b4 81 db c8 88 38 99 f5 89 35 e8 4b e1 2b 35 ae ae ea 37 0f 0b 00 c9 80 7d\n"
     ]
    }
   ],
   "source": [
    "print('ECB-mode      ' , get_result(\"lab2_algo1\" , b\"aaaaaaaaaaaaaaaaaaaaaaaaaaaaaaaa\")) # 2 block encrypted with ECB\n",
    "print('noneECB-mode  ' , get_result(\"lab2_algo2\" , b\"aaaaaaaaaaaaaaaaaaaaaaaaaaaaaaaa\")) # 2 block encrypted with CBC"
   ]
  },
  {
   "attachments": {},
   "cell_type": "markdown",
   "id": "18568efd",
   "metadata": {},
   "source": [
    "the 2 blocks resulted the same cipher text in ECB mode\n",
    "\n",
    "\n",
    "* AES-ECB-mode <span style=\"color: gray;\">87 4a de 45 9a da aa 84 45 f2 e7 5c e9 68 26 95</span>\n",
    "               <span style=\"color: gray;\">87 4a de 45 9a da aa 84 45 f2 e7 5c e9 68 26 95</span>\n",
    "\n",
    "the 2 blocks resulted the diffrent cipher text in ECB mode\n",
    "* AES-CBC-mode <span style=\"color: green;\">ed 11 7c 6a 33 12 7a 6c cc f8 8e df 4e f5 7a 7e </span>\n",
    "               <span style=\"color: blue;\">41 d0 12 0f 5f b8 df 2f 5b 42 70 2b e4 34 ab 38</span>"
   ]
  },
  {
   "attachments": {},
   "cell_type": "markdown",
   "id": "79ce0d3b",
   "metadata": {},
   "source": [
    "# Lab 03 : ECB byte at a time"
   ]
  },
  {
   "attachments": {},
   "cell_type": "markdown",
   "id": "edcb51ce",
   "metadata": {},
   "source": [
    "#### 1 - get block size"
   ]
  },
  {
   "attachments": {},
   "cell_type": "markdown",
   "id": "9f927366",
   "metadata": {},
   "source": [
    "![Alt Text](Asset1.png)"
   ]
  },
  {
   "cell_type": "code",
   "execution_count": 176,
   "id": "581a28f7",
   "metadata": {},
   "outputs": [
    {
     "name": "stdout",
     "output_type": "stream",
     "text": [
      "1    32    b\"\\xe8\\xc6\\x97\\xeb\\xa3#'b\\xbdb\\x86\\xdb\\x813zR\\xe24\\xfd\\xe5\\xb3\\xc0U\\xd8\\x17?k\\xd6q%\\xc3\\x8d\"\n",
      "2    32    b'\\x89\\xc0\\xb53\\x03\\x8co\\x1d\\xfcZ\":\\xe5\\xf0\\x94\\xc6\\xce\\xa8\\xc2W}\\rF\\x8b\\xd4\\x93:]\\xac7\\xbbM'\n",
      "3    32    b'\\xfb\\xc5\\xd3\\xbb\\x81\\x85\\xc7:\\xe1\\xb6+>\\x11f\\xaf7\\x19\\x7fWkM\\x954?az\\x9f%5e\\xe5n'\n",
      "4    32    b\"\\xaf\\x84Q`\\xc8\\x95\\xe9'\\xd3\\x05\\xd6\\x8a\\xec\\xc0C\\xb3\\xe9\\x1e\\xc0\\xe0\\xf4k`\\xec\\xd0\\x81/f\\x98\\xf2\\xf1c\"\n",
      "5    32    b'\\r\\x8f\\xb9A\\xca\\xb8w\\x1f\\x16g.\\xf9\\x91\\x11\\x80\\x16\\\\\\xf9\\xd9C\\xb8w\\xdcH5JT\\x98\\xe5\\xd4\\xc4('\n",
      "6    32    b'(\\x91\\x84tM-\\x96\\xa0\\xed;\\x91\\xbfD\\xf8\\xa6\\x9d\\x90\\xa7\\xe4QRBgP\\tSFg\\xe7aD\\xaa'\n",
      "7    32    b'\\x0b\\xb1U\\x05\\xdd\\x06j\\xf4\\x9b\\xa7\\x19\\x93&\\x1d\\x8c-\\x9f\\x80|\\xe1OF*\\xbd%\\x8f\\x92:I\\x16\\x8e\\xcd'\n",
      "8    32    b'#\\xee\\xb0\\x9e\\x96\\xee\\x86\\xca\\xb2\"\\xff:\\xbf\\xde\\x8b\\xb9n=\\x12\\xe48\\x15\\xed\\x9fn\\x98\\xd0\\x91^\\xaf\\xa0\\xa2'\n",
      "9    32    b'SY\\xee\\xb9\\xfd0\\xc1\\xf7\\x87\\xcbr\\xcda\\xd9\\x15j\\x046[\\x1a\\xe7(\\xd8\\xa5\\xebiU\\xb3\\x89\\xa0\\x16\\xf8'\n",
      "10    32    b'\\xb9\\x033\\xc1\\xe2<\\x1a-\\x99\\xc2o\\xba\\x9cb|\\xffx\\xde\\x0b!\\xeb;\\xc5\\x9a\\x016\\x15\\xcd\\x18/$\\x8b'\n",
      "11    32    b\"\\xf4j\\x8e\\xd6\\x04\\xd1\\x0c\\xdd\\x9cD'i\\xaf\\xdb\\xa0\\x88\\x85\\x1d~\\x02\\xcer\\xc1q\\t\\xe9\\xb8q\\xa1\\xadv\\t\"\n",
      "12    32    b'[\\x1c\\x19h%w\\xefh\\xc6\\xd48\\x9b:u\\xf9@\\xf0\\xee\\\\\\x03\\xe3\\x18\\xcaV=\\xe5\\xd9\\x9a\\x0f\\xa2\\xab\\xdd'\n",
      "13    32    b'V\\t4\\x8e\\xd7\\x99\\xc7\\x85\\x85Z\\x0c\\x8e\\xef\\x8b\\xd34\\xeb\\x10q\\x94\\xed\\xdc\\xa5\\xc3\\xbcaS\\xba\\xcc\\xdc\\x04\\xbc'\n",
      "14    32    b'EM\\xc1\\xc2\\x97\\x95\\xbd/\\xc9\\xb7w\\xb9f\\xd4tI\\xd2G\\xbe\\xb3\\x9d\\x93\\xe3\\xdb<0\\xde\\xe0\\x18!\\x19\\x9e'\n",
      "15    32    b\"\\x8e\\xf0\\x9f\\xee\\xad\\x0bES\\xf2a8\\xb2\\xb2<'\\xcf92\\x16\\xcf\\xc3\\xefdS\\x08,\\xa0L\\x95\\x0c\\x1d\\xbd\"\n",
      "16    32    b'\\x87J\\xdeE\\x9a\\xda\\xaa\\x84E\\xf2\\xe7\\\\\\xe9h&\\x95\\xe08\\x06\\x01z0\\xbb7\\xe9\\x9dL\\x89\\xed:\\x0e\\x8b'\n",
      "17    48    b\"\\x87J\\xdeE\\x9a\\xda\\xaa\\x84E\\xf2\\xe7\\\\\\xe9h&\\x95\\xe8\\xc6\\x97\\xeb\\xa3#'b\\xbdb\\x86\\xdb\\x813zR\\xe24\\xfd\\xe5\\xb3\\xc0U\\xd8\\x17?k\\xd6q%\\xc3\\x8d\"\n",
      "18    48    b'\\x87J\\xdeE\\x9a\\xda\\xaa\\x84E\\xf2\\xe7\\\\\\xe9h&\\x95\\x89\\xc0\\xb53\\x03\\x8co\\x1d\\xfcZ\":\\xe5\\xf0\\x94\\xc6\\xce\\xa8\\xc2W}\\rF\\x8b\\xd4\\x93:]\\xac7\\xbbM'\n",
      "19    48    b'\\x87J\\xdeE\\x9a\\xda\\xaa\\x84E\\xf2\\xe7\\\\\\xe9h&\\x95\\xfb\\xc5\\xd3\\xbb\\x81\\x85\\xc7:\\xe1\\xb6+>\\x11f\\xaf7\\x19\\x7fWkM\\x954?az\\x9f%5e\\xe5n'\n"
     ]
    }
   ],
   "source": [
    "for i in range(1,20):\n",
    "    cipher_text = get_result(\"lab3\" , \"a\"*i  , byte_object=True)\n",
    "    print(i , \"  \" , len(cipher_text), \"  \" , cipher_text)\n",
    "#     print(len(cipher_text))"
   ]
  },
  {
   "attachments": {},
   "cell_type": "markdown",
   "id": "ce7c38e8",
   "metadata": {},
   "source": [
    "* block size = 16\n",
    "* secret size is 16 byte also (because the number of cipher block starts to increase when the plain text size was 16)\n",
    "* the mode is ECB , note the first cipher block when plain text length is more than 16\n"
   ]
  },
  {
   "attachments": {},
   "cell_type": "markdown",
   "id": "aa77ea3e",
   "metadata": {},
   "source": [
    "#### 2 - get first the cipher block for data length from 0 to 16"
   ]
  },
  {
   "cell_type": "code",
   "execution_count": 17,
   "id": "23c340b0",
   "metadata": {},
   "outputs": [
    {
     "data": {
      "text/plain": [
       "[b'\\xe08\\x06\\x01z0\\xbb7\\xe9\\x9dL\\x89\\xed:\\x0e\\x8b',\n",
       " b\"\\xe8\\xc6\\x97\\xeb\\xa3#'b\\xbdb\\x86\\xdb\\x813zR\",\n",
       " b'\\x89\\xc0\\xb53\\x03\\x8co\\x1d\\xfcZ\":\\xe5\\xf0\\x94\\xc6',\n",
       " b'\\xfb\\xc5\\xd3\\xbb\\x81\\x85\\xc7:\\xe1\\xb6+>\\x11f\\xaf7',\n",
       " b\"\\xaf\\x84Q`\\xc8\\x95\\xe9'\\xd3\\x05\\xd6\\x8a\\xec\\xc0C\\xb3\",\n",
       " b'\\r\\x8f\\xb9A\\xca\\xb8w\\x1f\\x16g.\\xf9\\x91\\x11\\x80\\x16',\n",
       " b'(\\x91\\x84tM-\\x96\\xa0\\xed;\\x91\\xbfD\\xf8\\xa6\\x9d',\n",
       " b'\\x0b\\xb1U\\x05\\xdd\\x06j\\xf4\\x9b\\xa7\\x19\\x93&\\x1d\\x8c-',\n",
       " b'#\\xee\\xb0\\x9e\\x96\\xee\\x86\\xca\\xb2\"\\xff:\\xbf\\xde\\x8b\\xb9',\n",
       " b'SY\\xee\\xb9\\xfd0\\xc1\\xf7\\x87\\xcbr\\xcda\\xd9\\x15j',\n",
       " b'\\xb9\\x033\\xc1\\xe2<\\x1a-\\x99\\xc2o\\xba\\x9cb|\\xff',\n",
       " b\"\\xf4j\\x8e\\xd6\\x04\\xd1\\x0c\\xdd\\x9cD'i\\xaf\\xdb\\xa0\\x88\",\n",
       " b'[\\x1c\\x19h%w\\xefh\\xc6\\xd48\\x9b:u\\xf9@',\n",
       " b'V\\t4\\x8e\\xd7\\x99\\xc7\\x85\\x85Z\\x0c\\x8e\\xef\\x8b\\xd34',\n",
       " b'EM\\xc1\\xc2\\x97\\x95\\xbd/\\xc9\\xb7w\\xb9f\\xd4tI',\n",
       " b\"\\x8e\\xf0\\x9f\\xee\\xad\\x0bES\\xf2a8\\xb2\\xb2<'\\xcf\"]"
      ]
     },
     "execution_count": 17,
     "metadata": {},
     "output_type": "execute_result"
    }
   ],
   "source": [
    "secret_string_length = 16\n",
    "first_cipher_blocks = []\n",
    "for i in range(0,secret_string_length):\n",
    "    first_cipher_blocks.append(get_result(\"lab3\" , 'a'*i , byte_object=True)[:16])\n",
    "\n",
    "first_cipher_blocks"
   ]
  },
  {
   "attachments": {},
   "cell_type": "markdown",
   "id": "85a7ec84",
   "metadata": {},
   "source": [
    "#### 3 - try to brute force the secret string"
   ]
  },
  {
   "cell_type": "code",
   "execution_count": 19,
   "id": "2e885d04",
   "metadata": {},
   "outputs": [
    {
     "name": "stdout",
     "output_type": "stream",
     "text": [
      "b'aaaaaaaaaaaaaaaM' b\"\\x8e\\xf0\\x9f\\xee\\xad\\x0bES\\xf2a8\\xb2\\xb2<'\\xcf\\xe08\\x06\\x01z0\\xbb7\\xe9\\x9dL\\x89\\xed:\\x0e\\x8b\"\n",
      "b'aaaaaaaaaaaaaaMA' b'EM\\xc1\\xc2\\x97\\x95\\xbd/\\xc9\\xb7w\\xb9f\\xd4tI\\xe08\\x06\\x01z0\\xbb7\\xe9\\x9dL\\x89\\xed:\\x0e\\x8b'\n",
      "b'aaaaaaaaaaaaaMAH' b'V\\t4\\x8e\\xd7\\x99\\xc7\\x85\\x85Z\\x0c\\x8e\\xef\\x8b\\xd34\\xe08\\x06\\x01z0\\xbb7\\xe9\\x9dL\\x89\\xed:\\x0e\\x8b'\n",
      "b'aaaaaaaaaaaaMAHA' b'[\\x1c\\x19h%w\\xefh\\xc6\\xd48\\x9b:u\\xf9@\\xe08\\x06\\x01z0\\xbb7\\xe9\\x9dL\\x89\\xed:\\x0e\\x8b'\n",
      "b'aaaaaaaaaaaMAHAR' b\"\\xf4j\\x8e\\xd6\\x04\\xd1\\x0c\\xdd\\x9cD'i\\xaf\\xdb\\xa0\\x88\\xe08\\x06\\x01z0\\xbb7\\xe9\\x9dL\\x89\\xed:\\x0e\\x8b\"\n",
      "b'aaaaaaaaaaMAHARA' b'\\xb9\\x033\\xc1\\xe2<\\x1a-\\x99\\xc2o\\xba\\x9cb|\\xff\\xe08\\x06\\x01z0\\xbb7\\xe9\\x9dL\\x89\\xed:\\x0e\\x8b'\n",
      "b'aaaaaaaaaMAHARA_' b'SY\\xee\\xb9\\xfd0\\xc1\\xf7\\x87\\xcbr\\xcda\\xd9\\x15j\\xe08\\x06\\x01z0\\xbb7\\xe9\\x9dL\\x89\\xed:\\x0e\\x8b'\n",
      "b'aaaaaaaaMAHARA_T' b'#\\xee\\xb0\\x9e\\x96\\xee\\x86\\xca\\xb2\"\\xff:\\xbf\\xde\\x8b\\xb9\\xe08\\x06\\x01z0\\xbb7\\xe9\\x9dL\\x89\\xed:\\x0e\\x8b'\n",
      "b'aaaaaaaMAHARA_TE' b'\\x0b\\xb1U\\x05\\xdd\\x06j\\xf4\\x9b\\xa7\\x19\\x93&\\x1d\\x8c-\\xe08\\x06\\x01z0\\xbb7\\xe9\\x9dL\\x89\\xed:\\x0e\\x8b'\n",
      "b'aaaaaaMAHARA_TEC' b'(\\x91\\x84tM-\\x96\\xa0\\xed;\\x91\\xbfD\\xf8\\xa6\\x9d\\xe08\\x06\\x01z0\\xbb7\\xe9\\x9dL\\x89\\xed:\\x0e\\x8b'\n",
      "b'aaaaaMAHARA_TECH' b'\\r\\x8f\\xb9A\\xca\\xb8w\\x1f\\x16g.\\xf9\\x91\\x11\\x80\\x16\\xe08\\x06\\x01z0\\xbb7\\xe9\\x9dL\\x89\\xed:\\x0e\\x8b'\n",
      "b'aaaaMAHARA_TECH_' b\"\\xaf\\x84Q`\\xc8\\x95\\xe9'\\xd3\\x05\\xd6\\x8a\\xec\\xc0C\\xb3\\xe08\\x06\\x01z0\\xbb7\\xe9\\x9dL\\x89\\xed:\\x0e\\x8b\"\n",
      "b'aaaMAHARA_TECH_2' b'\\xfb\\xc5\\xd3\\xbb\\x81\\x85\\xc7:\\xe1\\xb6+>\\x11f\\xaf7\\xe08\\x06\\x01z0\\xbb7\\xe9\\x9dL\\x89\\xed:\\x0e\\x8b'\n",
      "b'aaMAHARA_TECH_20' b'\\x89\\xc0\\xb53\\x03\\x8co\\x1d\\xfcZ\":\\xe5\\xf0\\x94\\xc6\\xe08\\x06\\x01z0\\xbb7\\xe9\\x9dL\\x89\\xed:\\x0e\\x8b'\n",
      "b'aMAHARA_TECH_202' b\"\\xe8\\xc6\\x97\\xeb\\xa3#'b\\xbdb\\x86\\xdb\\x813zR\\xe08\\x06\\x01z0\\xbb7\\xe9\\x9dL\\x89\\xed:\\x0e\\x8b\"\n",
      "b'MAHARA_TECH_2023' b'\\xe08\\x06\\x01z0\\xbb7\\xe9\\x9dL\\x89\\xed:\\x0e\\x8b\\xe08\\x06\\x01z0\\xbb7\\xe9\\x9dL\\x89\\xed:\\x0e\\x8b'\n"
     ]
    },
    {
     "data": {
      "text/plain": [
       "b'MAHARA_TECH_2023'"
      ]
     },
     "execution_count": 19,
     "metadata": {},
     "output_type": "execute_result"
    }
   ],
   "source": [
    "block_size = 16\n",
    "secret = b''\n",
    "for j in range(secret_string_length , -1 , -1):\n",
    "    for i in range(255):\n",
    "        plain_text = b\"a\"*j + secret + i.to_bytes(1, 'big')\n",
    "        generated_ciphertext = get_result(\"lab3\" , plain_text , byte_object=True)\n",
    "        if generated_ciphertext[:block_size] in first_cipher_blocks:\n",
    "            secret = secret + i.to_bytes(1 , 'big')\n",
    "            print(plain_text , generated_ciphertext)\n",
    "            break\n",
    "secret"
   ]
  },
  {
   "attachments": {},
   "cell_type": "markdown",
   "id": "665c5dba",
   "metadata": {},
   "source": [
    "# Lab 04 : CBC IV detection"
   ]
  },
  {
   "cell_type": "code",
   "execution_count": 20,
   "id": "1183aa72",
   "metadata": {},
   "outputs": [
    {
     "data": {
      "text/plain": [
       "'3e 86 ef 3d 06 c7 ad 1c 1a 07 a2 ae 50 2f 73 ef'"
      ]
     },
     "execution_count": 20,
     "metadata": {},
     "output_type": "execute_result"
    }
   ],
   "source": [
    "get_result('lab4_enc' , \"salah\")"
   ]
  },
  {
   "cell_type": "code",
   "execution_count": 21,
   "id": "0cfe576d",
   "metadata": {},
   "outputs": [
    {
     "data": {
      "text/plain": [
       "b'\\x02\\x17\\x17\\xbd\\xaf}r\\x83.\\x1c\\xa0\\xf4\\xefr@\\xb71\\xc5x\\xcc\\\\Q+Kn\\xa5rM7/\\x94\\xffov\\x7f\\xdc\\xdd\\x1c\\x1a\\xa3Zy\\xc3\\x9cd\\xd7\\x93r'"
      ]
     },
     "execution_count": 21,
     "metadata": {},
     "output_type": "execute_result"
    }
   ],
   "source": [
    "byte_obj = b'a'*16 + b\"\\x00\"*16 + b'a'*16\n",
    "hex_string = byte_obj.hex()\n",
    "\n",
    "# Insert a space between each pair of characters\n",
    "spaced_hex_string = ' '.join(hex_string[i:i+2] for i in range(0, len(hex_string), 2))\n",
    "\n",
    "d = get_result('lab4_dec' , spaced_hex_string , byte_object=True)\n",
    "d"
   ]
  },
  {
   "cell_type": "code",
   "execution_count": 22,
   "id": "ba1ae8c3",
   "metadata": {},
   "outputs": [
    {
     "data": {
      "text/plain": [
       "b'maharah tech\\x8b\\xa5\\xd3\\xc5'"
      ]
     },
     "execution_count": 22,
     "metadata": {},
     "output_type": "execute_result"
    }
   ],
   "source": [
    "p1 = d[:16]\n",
    "p3 = d[-16:]\n",
    "bytes([a ^ b for a, b in zip(p1, p3)])"
   ]
  },
  {
   "attachments": {},
   "cell_type": "markdown",
   "id": "5bd8069b",
   "metadata": {},
   "source": [
    "# lab 05 : CBC bit flipping"
   ]
  },
  {
   "attachments": {},
   "cell_type": "markdown",
   "id": "20a9e6b4",
   "metadata": {},
   "source": [
    "#### 0- cant access admin due to the replacement of the ; and = "
   ]
  },
  {
   "cell_type": "code",
   "execution_count": 261,
   "id": "747c6523",
   "metadata": {},
   "outputs": [
    {
     "data": {
      "text/plain": [
       "b'logged in as user'"
      ]
     },
     "execution_count": 261,
     "metadata": {},
     "output_type": "execute_result"
    }
   ],
   "source": [
    "c = get_result('lab5_generate_cookie' , \";admin=true;\" )\n",
    "get_result('lab5_login' , c , byte_object=True)"
   ]
  },
  {
   "attachments": {},
   "cell_type": "markdown",
   "id": "2883656d",
   "metadata": {},
   "source": [
    "#### 1 - get the start location of the payload in the cipher text (2 blocks then the block changes)"
   ]
  },
  {
   "cell_type": "code",
   "execution_count": 194,
   "id": "8ef930a8",
   "metadata": {},
   "outputs": [
    {
     "name": "stdout",
     "output_type": "stream",
     "text": [
      "c3 fd 03 9e 91 4b 4c 55 9c 2d 04 82 ef 4e e9 fb 5e a8 41 74 ff 8c ca 68 c0 da b6 7d 7a bb 13 4c d7 df 71 6a a2 aa 64 74 d3 8a 54 af a8 32 14 4f db 7b 11 61 4c 03 92 57 e8 db e3 47 a9 d9 c0 44 3d c2 18 98 59 bc db 43 78 df 85 a3 9c 0c aa 8f\n",
      "c3 fd 03 9e 91 4b 4c 55 9c 2d 04 82 ef 4e e9 fb 5e a8 41 74 ff 8c ca 68 c0 da b6 7d 7a bb 13 4c fa b3 63 62 04 19 35 51 f2 3d 56 f4 7e 4a e0 70 aa 58 e3 73 cf 36 f8 5d 27 57 e2 5b 42 e7 d3 b5 36 a0 d5 76 b3 95 2a 0b 26 b9 7e 5c c5 01 6f a7\n",
      "c3 fd 03 9e 91 4b 4c 55 9c 2d 04 82 ef 4e e9 fb 5e a8 41 74 ff 8c ca 68 c0 da b6 7d 7a bb 13 4c ad 46 c5 89 1d c4 6a 78 12 55 a9 94 f6 a7 ac cd 4d 1a 73 70 58 2f f3 05 29 40 34 39 db f1 78 36 9f 8a 16 20 b9 1f 2b 16 bc e0 ca b5 42 ef 4b 52\n",
      "c3 fd 03 9e 91 4b 4c 55 9c 2d 04 82 ef 4e e9 fb 5e a8 41 74 ff 8c ca 68 c0 da b6 7d 7a bb 13 4c 91 6f 3b 4e a0 8f 8f 2e a3 a8 a6 3e 55 34 df 28 48 bd 38 8c 75 d2 5d 11 78 54 35 e4 3a 97 db 9a f9 cf d1 e1 43 23 fa 43 7f 8c 94 1c df d5 50 f6\n",
      "c3 fd 03 9e 91 4b 4c 55 9c 2d 04 82 ef 4e e9 fb 5e a8 41 74 ff 8c ca 68 c0 da b6 7d 7a bb 13 4c 1b 04 78 27 38 64 d9 5e 0f 5a 00 85 dc 42 4f 87 e9 c1 24 19 8f cc 8b 93 bd f7 5c ac 94 91 48 c4 f9 72 6e 35 50 19 f4 25 b8 7d 37 1c 9c 63 26 d0\n",
      "c3 fd 03 9e 91 4b 4c 55 9c 2d 04 82 ef 4e e9 fb 5e a8 41 74 ff 8c ca 68 c0 da b6 7d 7a bb 13 4c 6b 78 55 e0 e2 28 2e f0 eb 5b 46 06 0c 58 36 c5 5c 11 2b dc bb aa a8 aa a8 a8 24 d4 4b 9a 55 71 c0 2c b5 0d fd 95 d8 7c 9f d7 52 f9 a7 e2 36 c7\n",
      "c3 fd 03 9e 91 4b 4c 55 9c 2d 04 82 ef 4e e9 fb 5e a8 41 74 ff 8c ca 68 c0 da b6 7d 7a bb 13 4c 2d 8f 30 98 0e d5 b2 e4 05 3f e2 3b 78 5d 38 a5 e5 ed d9 bf b4 78 eb 48 89 9c 53 9f 5b ee 09 30 b2 b6 e8 6d c4 00 a6 d0 f2 c9 28 fd d4 cf 4a cf\n",
      "c3 fd 03 9e 91 4b 4c 55 9c 2d 04 82 ef 4e e9 fb 5e a8 41 74 ff 8c ca 68 c0 da b6 7d 7a bb 13 4c ce 54 97 05 54 1b 63 22 16 c5 30 9f 8b 10 30 c8 95 48 56 7d f3 ae 15 5f 72 0f 2e 58 f3 e0 86 aa 6b 2f ed f0 29 78 e3 2e 1d 9a df 31 5e fb d9 48 80 21 51 d8 70 17 1e e1 35 a7 65 f8 aa b0 ef 04\n",
      "c3 fd 03 9e 91 4b 4c 55 9c 2d 04 82 ef 4e e9 fb 5e a8 41 74 ff 8c ca 68 c0 da b6 7d 7a bb 13 4c fc ee d9 10 83 0e 2b 42 41 34 2c 3b 1b 0b 16 1e fe 7c 52 4e 16 5d fa ea 28 00 de ff b2 4a db d1 62 79 1f eb a3 5d 5e a0 e9 55 b5 2a 7e f3 79 d9 22 ba 20 2d 21 90 1c e6 86 0d 34 26 77 ec 23 9d\n",
      "c3 fd 03 9e 91 4b 4c 55 9c 2d 04 82 ef 4e e9 fb 5e a8 41 74 ff 8c ca 68 c0 da b6 7d 7a bb 13 4c ae f6 b5 ac f9 23 e8 1a 58 ad 58 7e 50 34 fd 6a f4 f3 ab 49 a3 d3 47 a3 37 bb 72 3e cf 9b 57 cb 7c 69 fc 44 d6 d7 dc 05 96 ae a7 d2 60 7a 6c 04 1b dc 3a 62 dd e4 c9 78 11 80 b2 d5 09 c3 84 79\n",
      "c3 fd 03 9e 91 4b 4c 55 9c 2d 04 82 ef 4e e9 fb 5e a8 41 74 ff 8c ca 68 c0 da b6 7d 7a bb 13 4c 73 bc fd 66 86 3b 28 34 84 27 9f 45 51 76 7e 14 25 6a bc cd 7e 56 49 ba d7 8c e0 e2 ae a2 83 4d 55 9d 0e 3a 7b 4d b6 47 01 ed cd 39 c7 5f e3 39 33 40 de 8c b6 a2 2c 51 7b 3e 8d 27 1f 89 c7 4b\n",
      "c3 fd 03 9e 91 4b 4c 55 9c 2d 04 82 ef 4e e9 fb 5e a8 41 74 ff 8c ca 68 c0 da b6 7d 7a bb 13 4c e0 bd c6 98 f1 f9 c0 6d c4 1f b7 73 a3 dc cb 77 41 44 8d fd 59 0b 1b 04 53 40 c0 2b 36 a0 00 17 82 92 3d c2 7e f6 1b 00 cd 51 be fa fd bf 1e dc fc 8b c7 f2 21 89 93 91 24 3c 64 6e 0b 00 aa 73\n",
      "c3 fd 03 9e 91 4b 4c 55 9c 2d 04 82 ef 4e e9 fb 5e a8 41 74 ff 8c ca 68 c0 da b6 7d 7a bb 13 4c c1 19 c5 2b dc 85 5e 67 60 b6 d3 dc 0a aa 95 fa 00 dc cf e4 93 25 81 e7 2a 5c ac c6 5d cc b3 3e f8 a7 71 b2 31 51 fc 72 79 bc 91 06 57 e0 cf 4a ce 09 3a a2 97 e9 0b 6a ab 08 5f b1 e5 20 59 a4\n",
      "c3 fd 03 9e 91 4b 4c 55 9c 2d 04 82 ef 4e e9 fb 5e a8 41 74 ff 8c ca 68 c0 da b6 7d 7a bb 13 4c d2 00 b9 2c aa 59 77 7d cb 99 51 73 78 ff ac 3e 87 05 33 ad 89 1e 5a ed 9c 4e 9d 45 a1 0c 9d 18 11 69 6e 67 4e 1f 99 81 f3 ff b5 a2 3a de 68 83 75 78 b8 8b 96 ad 51 20 7d 35 06 23 1a 14 24 2f\n",
      "c3 fd 03 9e 91 4b 4c 55 9c 2d 04 82 ef 4e e9 fb 5e a8 41 74 ff 8c ca 68 c0 da b6 7d 7a bb 13 4c f9 08 6a bf b9 ac 8e ee 5c 54 45 62 66 a7 58 1d c6 fc 66 f3 b9 7b 5e e8 3d ef ea 4c 76 97 41 fa 47 e5 4b 82 f2 05 47 25 51 3e e5 c0 f2 7e f2 35 a6 30 c0 60 01 e9 06 31 aa 6f a7 eb c6 05 a0 7f\n",
      "c3 fd 03 9e 91 4b 4c 55 9c 2d 04 82 ef 4e e9 fb 5e a8 41 74 ff 8c ca 68 c0 da b6 7d 7a bb 13 4c 63 d3 0c 26 b9 c4 9a 9c 0f 86 c6 e9 9b 79 bb b0 b0 ef b1 9f eb 61 f8 83 c5 02 99 85 85 90 1a e7 81 3b 4d 92 02 ec d0 72 d3 7f 93 d6 ac d3 32 61 7a 15 cf 43 b9 5f 8b d5 bf c5 30 3d d6 e3 be 89\n",
      "c3 fd 03 9e 91 4b 4c 55 9c 2d 04 82 ef 4e e9 fb 5e a8 41 74 ff 8c ca 68 c0 da b6 7d 7a bb 13 4c 1c f2 95 a7 ae 07 f8 f0 59 7b 34 e6 6a a0 9b 11 d8 e4 05 6c 80 26 cf 45 30 3f da e1 c1 9a 09 ff f5 68 43 83 16 5a 16 4b 16 44 ba f1 6b 96 a0 ed be 7f a8 42 91 90 42 0b 71 81 c9 d4 25 e1 f1 07\n",
      "c3 fd 03 9e 91 4b 4c 55 9c 2d 04 82 ef 4e e9 fb 5e a8 41 74 ff 8c ca 68 c0 da b6 7d 7a bb 13 4c 1c f2 95 a7 ae 07 f8 f0 59 7b 34 e6 6a a0 9b 11 26 d9 2f 1e b0 0a b2 e8 c7 05 7c 50 93 bc 9f 93 d4 65 cf 57 82 66 e9 34 e4 9d f1 bc 62 c8 6a ea 6e 24 10 df 4d ce 00 23 0b 99 37 55 31 2e 61 26\n",
      "c3 fd 03 9e 91 4b 4c 55 9c 2d 04 82 ef 4e e9 fb 5e a8 41 74 ff 8c ca 68 c0 da b6 7d 7a bb 13 4c 1c f2 95 a7 ae 07 f8 f0 59 7b 34 e6 6a a0 9b 11 9d 0e 06 dc 1f 13 4f f2 be 18 07 33 ba b2 d9 ec d6 d2 88 b6 ae a2 98 33 2b 17 e7 da 03 13 26 2b ea eb 0e f7 0c c4 9d 7e 2a 85 6e b9 60 9f d8 26\n",
      "c3 fd 03 9e 91 4b 4c 55 9c 2d 04 82 ef 4e e9 fb 5e a8 41 74 ff 8c ca 68 c0 da b6 7d 7a bb 13 4c 1c f2 95 a7 ae 07 f8 f0 59 7b 34 e6 6a a0 9b 11 fd 36 99 96 39 db e7 47 02 7d 7e 1b 1a 84 40 fa fd 56 01 dd d9 d8 a8 59 62 15 8f bc 09 d0 f5 f0 9e c4 d5 a0 6d 9e a1 4b 99 79 ae 1d 01 ab d1 dd\n"
     ]
    }
   ],
   "source": [
    "for i in range(20):\n",
    "    c = get_result('lab5_generate_cookie' , \"a\"*i)\n",
    "    print(c)"
   ]
  },
  {
   "attachments": {},
   "cell_type": "markdown",
   "id": "1be0acef",
   "metadata": {},
   "source": [
    "#### 2- start the flipping attack\n",
    "* get the cookie string(the cipher text of the ;admin=true; payload)"
   ]
  },
  {
   "cell_type": "code",
   "execution_count": 263,
   "id": "0a8e9194",
   "metadata": {},
   "outputs": [
    {
     "data": {
      "text/plain": [
       "b\"\\xc3\\xfd\\x03\\x9e\\x91KLU\\x9c-\\x04\\x82\\xefN\\xe9\\xfb^\\xa8At\\xff\\x8c\\xcah\\xc0\\xda\\xb6}z\\xbb\\x13L/z\\xd0\\xc8\\xb6\\x1eN\\x83\\xa3q\\xbby\\xf9\\xef\\xc5\\xbaP@z\\xca\\x07\\x93'O\\x84\\x0b\\x04\\xb8\\xdb\\xf6\\xdd\\xf1\\xdfL*\\xe5\\xed\\xe6l%A8\\xd0\\xea\\xdc\\x9dC\\xde_(4}ZD\\xf1u<\\xed\\xe3\\x17\\x055D\\xa6\""
      ]
     },
     "execution_count": 263,
     "metadata": {},
     "output_type": "execute_result"
    }
   ],
   "source": [
    "c = get_result('lab5_generate_cookie' , \";admin=true;\" , byte_object=True)\n",
    "c"
   ]
  },
  {
   "attachments": {},
   "cell_type": "markdown",
   "id": "f7e80efa",
   "metadata": {},
   "source": [
    "* separate each block to deal with the block under attack only (the second block [index 1])"
   ]
  },
  {
   "cell_type": "code",
   "execution_count": 264,
   "id": "b1b2e8be",
   "metadata": {},
   "outputs": [
    {
     "data": {
      "text/plain": [
       "[b'\\xc3\\xfd\\x03\\x9e\\x91KLU\\x9c-\\x04\\x82\\xefN\\xe9\\xfb',\n",
       " b'^\\xa8At\\xff\\x8c\\xcah\\xc0\\xda\\xb6}z\\xbb\\x13L',\n",
       " b'/z\\xd0\\xc8\\xb6\\x1eN\\x83\\xa3q\\xbby\\xf9\\xef\\xc5\\xba',\n",
       " b\"P@z\\xca\\x07\\x93'O\\x84\\x0b\\x04\\xb8\\xdb\\xf6\\xdd\\xf1\",\n",
       " b'\\xdfL*\\xe5\\xed\\xe6l%A8\\xd0\\xea\\xdc\\x9dC\\xde',\n",
       " b'_(4}ZD\\xf1u<\\xed\\xe3\\x17\\x055D\\xa6']"
      ]
     },
     "execution_count": 264,
     "metadata": {},
     "output_type": "execute_result"
    }
   ],
   "source": [
    "cipher_list = []\n",
    "i = 0\n",
    "while i*16 <= len(c):\n",
    "    cipher_list.append(c[i*16: 16 + (i*16)])\n",
    "    i += 1\n",
    "cipher_list.remove(cipher_list[6]) # because it is empty\n",
    "cipher_list"
   ]
  },
  {
   "attachments": {},
   "cell_type": "markdown",
   "id": "c82bb69b",
   "metadata": {},
   "source": [
    "* flip the 0, 6 and 11 location to the desired values"
   ]
  },
  {
   "cell_type": "code",
   "execution_count": 266,
   "id": "4e508367",
   "metadata": {},
   "outputs": [
    {
     "name": "stdout",
     "output_type": "stream",
     "text": [
      "2nd cipher block before flipping:  bytearray(b'^\\xa8At\\xff\\x8c\\xcah\\xc0\\xda\\xb6}z\\xbb\\x13L')\n",
      "2nd cipher block after  flipping:  bytearray(b'Z\\xa8At\\xff\\x8c\\xc8h\\xc0\\xda\\xb6yz\\xbb\\x13L')\n"
     ]
    }
   ],
   "source": [
    "attack_block = 1\n",
    "bytearray_object = bytearray(cipher_list[attack_block])\n",
    "print(\"2nd cipher block before flipping: \" , bytearray_object)\n",
    "bytearray_object[0] = bytearray_object[0] ^ int.from_bytes(b\"?\", byteorder='big') ^ int.from_bytes(b\";\", byteorder='big')\n",
    "bytearray_object[6] = bytearray_object[6] ^ int.from_bytes(b\"?\", byteorder='big') ^ int.from_bytes(b\"=\", byteorder='big')\n",
    "bytearray_object[11] = bytearray_object[11] ^ int.from_bytes(b\"?\", byteorder='big') ^ int.from_bytes(b\";\", byteorder='big')\n",
    "print(\"2nd cipher block after  flipping: \" , bytearray_object)"
   ]
  },
  {
   "attachments": {},
   "cell_type": "markdown",
   "id": "53c8d24b",
   "metadata": {},
   "source": [
    "* rejoin the modified block with other cipher blocks"
   ]
  },
  {
   "cell_type": "code",
   "execution_count": 267,
   "id": "876ce6ef",
   "metadata": {},
   "outputs": [
    {
     "data": {
      "text/plain": [
       "'c3 fd 03 9e 91 4b 4c 55 9c 2d 04 82 ef 4e e9 fb 5a a8 41 74 ff 8c c8 68 c0 da b6 79 7a bb 13 4c 2f 7a d0 c8 b6 1e 4e 83 a3 71 bb 79 f9 ef c5 ba 50 40 7a ca 07 93 27 4f 84 0b 04 b8 db f6 dd f1 df 4c 2a e5 ed e6 6c 25 41 38 d0 ea dc 9d 43 de 5f 28 34 7d 5a 44 f1 75 3c ed e3 17 05 35 44 a6'"
      ]
     },
     "execution_count": 267,
     "metadata": {},
     "output_type": "execute_result"
    }
   ],
   "source": [
    "cipher_list [1] = bytes(bytearray_object)\n",
    "cipher_list\n",
    "cipher_text = b''\n",
    "for i in cipher_list:\n",
    "    cipher_text += i\n",
    "\n",
    "# convert it to hex string\n",
    "hex_string =  ' '.join([format(byte, '02x') for byte in cipher_text])\n",
    "hex_string"
   ]
  },
  {
   "attachments": {},
   "cell_type": "markdown",
   "id": "b30f124a",
   "metadata": {},
   "source": [
    "* try to send the modified cookie to the server"
   ]
  },
  {
   "cell_type": "code",
   "execution_count": 258,
   "id": "06f61695",
   "metadata": {},
   "outputs": [
    {
     "data": {
      "text/plain": [
       "b'logged in as admin'"
      ]
     },
     "execution_count": 258,
     "metadata": {},
     "output_type": "execute_result"
    }
   ],
   "source": [
    "get_result('lab5_login' , hex_string , byte_object=True)"
   ]
  },
  {
   "attachments": {},
   "cell_type": "markdown",
   "id": "2358cae6",
   "metadata": {},
   "source": [
    "# lab 06 : CBC byte at a time"
   ]
  },
  {
   "cell_type": "code",
   "execution_count": null,
   "id": "4e446cdb",
   "metadata": {},
   "outputs": [],
   "source": []
  },
  {
   "attachments": {},
   "cell_type": "markdown",
   "id": "b20ae881",
   "metadata": {},
   "source": [
    "# lab 07 : CBC padding"
   ]
  },
  {
   "cell_type": "code",
   "execution_count": 124,
   "id": "b059a46d",
   "metadata": {},
   "outputs": [],
   "source": [
    "from Crypto.Cipher import AES\n",
    "from Crypto.Util.Padding import pad\n",
    "from Crypto.Random import get_random_bytes\n",
    "\n",
    "class test():\n",
    "    def __init__(self):\n",
    "        self.key = b'0123456789ABCDEF'\n",
    "        self.iv = b'IVIVIVIVIVIVIVIV'\n",
    "\n",
    "    # def pad(self , text):\n",
    "    #     pad_length = AES.block_size - (len(text) % AES.block_size)\n",
    "    #     padding = bytes([pad_length] * pad_length)\n",
    "    #     return text + padding\n",
    "\n",
    "    # def unpad(self, text):\n",
    "    #     pad_length = text[-1]\n",
    "    #     return text[:-pad_length]\n",
    "    \n",
    "    \n",
    "    def encrypt(self , payload):\n",
    "        obj = AES.new(self.key, AES.MODE_CBC, self.iv)\n",
    "        padded_payload = pad(payload , 16)\n",
    "        ciphertext = obj.encrypt(padded_payload)\n",
    "        return ciphertext\n",
    "    \n",
    "\n",
    "    def decrypt(self, ciphertext):\n",
    "        obj1 = AES.new(self.key,AES.MODE_CBC,self.iv)\n",
    "        plaintext = obj1.decrypt(ciphertext)\n",
    "        return plaintext\n",
    "        \n",
    "\n",
    "    def checkPadding(self , decrypted_text):\n",
    "        counter = 0\n",
    "        if decrypted_text[-1] == 0:\n",
    "            return False\n",
    "        if len(decrypted_text) <= decrypted_text[-1]:\n",
    "            return False\n",
    "        for i in range(-1 , (decrypted_text[-1]+1)*-1 , -1):\n",
    "            if(decrypted_text[i] == decrypted_text[-1]):\n",
    "                counter += 1\n",
    "            else:\n",
    "                pass\n",
    "        if counter == decrypted_text[-1]:\n",
    "            return True\n",
    "        return False\n",
    "        \n",
    "    def check(self , cipher_text):\n",
    "        padded_text = self.decrypt(cipher_text)\n",
    "        # print(padded_text)\n",
    "        res = self.checkPadding(padded_text)\n",
    "        if res: \n",
    "            print(padded_text)\n",
    "            return b\"access granted\"\n",
    "        else: return b\"access denied [padding error]\"\n",
    "\n",
    "\n"
   ]
  },
  {
   "cell_type": "code",
   "execution_count": 125,
   "id": "89602f61",
   "metadata": {},
   "outputs": [
    {
     "data": {
      "text/plain": [
       "b'ax\\x12RD\\xab\\x8b\\xa41#w\\x08\\xf6\\xd1\\xaf\\xf5\\xe6>\\xaac\\x1b\\xe1\\xe32j\\xb7\\xd3!o\\x1d\\xad\\xb4m\\xdb\\xdaJ\\x04\\xba\\xe9\"\\x88\\xb9\\x84$\\xc6u\\xe1\\xcd'"
      ]
     },
     "execution_count": 125,
     "metadata": {},
     "output_type": "execute_result"
    }
   ],
   "source": [
    "t = test()\n",
    "ct = t.encrypt(b\"a\"*16+b\"b\"*16)\n",
    "ct"
   ]
  },
  {
   "cell_type": "code",
   "execution_count": 126,
   "id": "9afe1441",
   "metadata": {},
   "outputs": [
    {
     "data": {
      "text/plain": [
       "[b'ax\\x12RD\\xab\\x8b\\xa41#w\\x08\\xf6\\xd1\\xaf\\xf5',\n",
       " b'\\xe6>\\xaac\\x1b\\xe1\\xe32j\\xb7\\xd3!o\\x1d\\xad\\xb4',\n",
       " b'm\\xdb\\xdaJ\\x04\\xba\\xe9\"\\x88\\xb9\\x84$\\xc6u\\xe1\\xcd']"
      ]
     },
     "execution_count": 126,
     "metadata": {},
     "output_type": "execute_result"
    }
   ],
   "source": [
    "cipher_list = []\n",
    "i = 0\n",
    "while i*16 <= len(ct):\n",
    "    cipher_list.append(ct[i*16: 16 + (i*16)])\n",
    "    i += 1\n",
    "cipher_list.remove(cipher_list[-1]) # because it is empty\n",
    "cipher_list"
   ]
  },
  {
   "cell_type": "code",
   "execution_count": 127,
   "id": "4fd99130",
   "metadata": {},
   "outputs": [
    {
     "data": {
      "text/plain": [
       "b'\\x00\\x00\\x00\\x00\\x00\\x00\\x00\\x00\\x00\\x00\\x00\\x00\\x00\\x00\\x00\\x00\\xe6>\\xaac\\x1b\\xe1\\xe32j\\xb7\\xd3!o\\x1d\\xad\\xb4'"
      ]
     },
     "execution_count": 127,
     "metadata": {},
     "output_type": "execute_result"
    }
   ],
   "source": [
    "cipher_text = b\"\\x00\"*16 + cipher_list[1]# + cipher_list[2] \n",
    "cipher_text"
   ]
  },
  {
   "cell_type": "code",
   "execution_count": 128,
   "id": "fbe026cf",
   "metadata": {},
   "outputs": [
    {
     "data": {
      "text/plain": [
       "b'access denied [padding error]'"
      ]
     },
     "execution_count": 128,
     "metadata": {},
     "output_type": "execute_result"
    }
   ],
   "source": [
    "t.check(cipher_text)"
   ]
  },
  {
   "cell_type": "code",
   "execution_count": 146,
   "id": "d116b298",
   "metadata": {},
   "outputs": [
    {
     "data": {
      "text/plain": [
       "[bytearray(b'ax\\x12RD\\xab\\x8b\\xa41#w\\x08\\xf6\\xd1\\xaf\\xf5'),\n",
       " bytearray(b'\\xe6>\\xaac\\x1b\\xe1\\xe32j\\xb7\\xd3!o\\x1d\\xad\\xb4'),\n",
       " bytearray(b'm\\xdb\\xdaJ\\x04\\xba\\xe9\"\\x88\\xb9\\x84$\\xc6u\\xe1\\xcd')]"
      ]
     },
     "execution_count": 146,
     "metadata": {},
     "output_type": "execute_result"
    }
   ],
   "source": [
    "cla = [bytearray(i) for i in cipher_list]\n",
    "cla"
   ]
  },
  {
   "cell_type": "code",
   "execution_count": 144,
   "id": "c94cd1de",
   "metadata": {},
   "outputs": [
    {
     "data": {
      "text/plain": [
       "[bytearray(b'\\x00\\x00\\x00\\x00\\x00\\x00\\x00\\x00\\x00\\x00\\x00\\x00\\x00\\x00\\x00\\x00'),\n",
       " bytearray(b'\\xe6>\\xaac\\x1b\\xe1\\xe32j\\xb7\\xd3!o\\x1d\\xad\\xb4'),\n",
       " bytearray(b'm\\xdb\\xdaJ\\x04\\xba\\xe9\"\\x88\\xb9\\x84$\\xc6u\\xe1\\xcd')]"
      ]
     },
     "execution_count": 144,
     "metadata": {},
     "output_type": "execute_result"
    }
   ],
   "source": [
    "# cla[0] = bytearray(b'\\x00'*16)\n",
    "# for i in range(256):\n",
    "#     cla[0][-1] = int.from_bytes(b\"\\x01\", byteorder='big') ^ cipher_list[0][-1] ^ i"
   ]
  },
  {
   "cell_type": "code",
   "execution_count": 169,
   "id": "c25b7670",
   "metadata": {},
   "outputs": [
    {
     "name": "stdout",
     "output_type": "stream",
     "text": [
      "b\"d:\\xc3]\\x91\\xef\\xd6\\xdb7M\\xe9'\\xfb\\xf9\\xd0\\xa6\\x03\\x1ap0&\\xc9\\xe9\\xc6SA\\x15j\\x94\\xb3\\xcd\\x01\"\n",
      "b'\\xe7'\n"
     ]
    }
   ],
   "source": [
    "\n",
    "character = 0\n",
    "for i in range(256):\n",
    "    # current_guess = int.from_bytes(b'\\x96' , 'big')\n",
    "    current_guess = i\n",
    "    C_prime = (16 - character) ^ (cipher_list[0][character]) ^ (current_guess)\n",
    "    C_prime.to_bytes(1 , 'big')\n",
    "    cla[0] = b'\\x00'*14 + b'\\x00' + C_prime.to_bytes(1 , 'big')\n",
    "    ct = cla[0] + cla[1]\n",
    "    if t.check(ct) == b'access granted':\n",
    "        print(i.to_bytes(1 , 'big'))"
   ]
  },
  {
   "cell_type": "code",
   "execution_count": 168,
   "id": "edf020d0",
   "metadata": {},
   "outputs": [
    {
     "name": "stdout",
     "output_type": "stream",
     "text": [
      "b\"d:\\xc3]\\x91\\xef\\xd6\\xdb7M\\xe9'\\xfb\\xf9\\xd0\\xa6\\x03\\x1ap0&\\xc9\\xe9\\xc6SA\\x15j\\x94\\xb3\\xcd\\x01\"\n",
      "b'\\x96'\n",
      "b'b'\n"
     ]
    }
   ],
   "source": [
    "for i in range(256):\n",
    "    cipher_text = b\"\\x00\"*15 + i.to_bytes(1 , 'big') + cipher_list[1]# + cipher_list[2] \n",
    "    if(t.check(cipher_text) == b'access granted'):\n",
    "        print(i.to_bytes(1 , 'big'))\n",
    "        p_2 = int.from_bytes(b\"\\x01\", byteorder='big') ^ cipher_list[0][-1] ^ i\n",
    "        print(p_2.to_bytes(1 , 'big'))\n",
    "    else:\n",
    "        pass"
   ]
  },
  {
   "cell_type": "code",
   "execution_count": 138,
   "id": "7be0866d",
   "metadata": {},
   "outputs": [],
   "source": [
    "for i in range(256):\n",
    "    cipher_text = b\"\\x00\"*14 + i.to_bytes(1 , 'big') + b\"\\x00\"  + cipher_list[1]# + cipher_list[2] \n",
    "    if(t.check(cipher_text) == b'access granted'):\n",
    "        print(i.to_bytes(1 , 'big'))\n",
    "        p_2 = int.from_bytes(b\"\\x01\", byteorder='big') ^ cipher_list[0][-2] ^ i\n",
    "        print(p_2.to_bytes(1 , 'big'))\n",
    "    else:\n",
    "        pass"
   ]
  },
  {
   "cell_type": "code",
   "execution_count": 135,
   "id": "b39cc9fe",
   "metadata": {},
   "outputs": [
    {
     "name": "stdout",
     "output_type": "stream",
     "text": [
      "b\"d:\\xc3]\\x91\\xef\\xd6\\xdb7M\\xe9'\\xfb\\xf9\\xd0\\xa6\\x03\\x1ap0&\\xc9\\xe9\\xc6SA\\x15j\\x94\\xb3\\xcd\\x01\"\n",
      "b'\\x96'\n",
      "b'b'\n",
      "--------------------\n",
      "b'\\xd4\\xf3\\xfeU\\xad<\\xa8\\xb3>\\xdf\\xb0T9\\x8f\\xc9\\xe1\\x03\\x1ap0&\\xc9\\xe9\\xc6SA\\x15j\\x94\\xb3[\\x01'\n",
      "b'\\x96'\n",
      "b'8'\n",
      "--------------------\n",
      "b\"t\\xf4\\x9c\\x01e\\x1c5M>\\xd1\\x1c\\xadu'\\xd8\\xa5\\x03\\x1ap0&\\xc9\\xe9\\xc6SA\\x15j\\x94%[\\x01\"\n",
      "b'\\x96'\n",
      "b'F'\n",
      "--------------------\n",
      "b'\\xb0\\xe7@\\x9d\\x18\\xe8t\\xfcE\\x82\\x85\\xa8\\xf9\\xaaz\\xd7\\x03\\x1ap0&\\xc9\\xe9\\xc6SA\\x15j\\x02%[\\x01'\n",
      "b'\\x96'\n",
      "b'a'\n",
      "--------------------\n",
      "b'\\x9e@liPBxN\\x88\\xaf\\x99\\xd3\\x8f9\\xa9\\xc2\\x03\\x1ap0&\\xc9\\xe9\\xc6SA\\x15\\xfc\\x02%[\\x01'\n",
      "b'\\x96'\n",
      "b'\\x9f'\n",
      "--------------------\n",
      "b'05\\xf3$E\\x08\\x87\\xa26\\xd7HT\\xa2Q\\x82`\\x03\\x1ap0&\\xc9\\xe9\\xc6SA\\x83\\xfc\\x02%[\\x01'\n",
      "b'\\x96'\n",
      "b'\\xe0'\n",
      "--------------------\n",
      "b'U\\x1dB\\x18\\xbe|\\xdf+i=\\xf6O\\xc3\\xc5\\x9e\\xbf\\x03\\x1ap0&\\xc9\\xe9\\xc6S\\xd7\\x83\\xfc\\x02%[\\x01'\n",
      "b'\\x96'\n",
      "b'\\xb4'\n",
      "--------------------\n",
      "b'\\xa9\\xaaj\\xed\\x82\\x0fZV%\\xd4(\\x9d\\x80\\x15+\\r\\x03\\x1ap0&\\xc9\\xe9\\xc6\\xc5\\xd7\\x83\\xfc\\x02%[\\x01'\n",
      "b'\\x96'\n",
      "b'\\xa6'\n",
      "--------------------\n",
      "b'qp\\xbe\\xf6\\xfb~v\\xbc_\\xaa\\x1c\\x1b\\x1c29\\xf2\\x03\\x1ap0&\\xc9\\xe9P\\xc5\\xd7\\x83\\xfc\\x02%[\\x01'\n",
      "b'\\x96'\n",
      "b'3'\n",
      "--------------------\n",
      "b'\\x9c\\xe7Q9i6\\xc9\\xf4\\xf1r:\\xae\\x9c\\x02\\x1e\\x02\\x03\\x1ap0&\\xc9\\x7fP\\xc5\\xd7\\x83\\xfc\\x02%[\\x01'\n",
      "b'\\x96'\n",
      "b'\\x1c'\n",
      "--------------------\n",
      "b'\\xf3\\xccY\\x98\\xf9\\\\\\x8a\\x82\\xad}\\xa1\\xb3\\xc2\\x81\\xd0c\\x03\\x1ap0&_\\x7fP\\xc5\\xd7\\x83\\xfc\\x02%[\\x01'\n",
      "b'\\x96'\n",
      "b'<'\n",
      "--------------------\n",
      "b'\\x8d\\t\\x07\\x13\\x8f|\\xd7\\x9dct!7\\x8bj!\\xe2\\x03\\x1ap0\\xb0_\\x7fP\\xc5\\xd7\\x83\\xfc\\x02%[\\x01'\n",
      "b'\\x96'\n",
      "b'\\xd3'\n",
      "--------------------\n",
      "b'\\xbe\\xf4G\\xf5\\xd3z\\xe7A\\x89)\\xee\\x1f\\xd6Tg\\xa7\\x03\\x1ap\\xa6\\xb0_\\x7fP\\xc5\\xd7\\x83\\xfc\\x02%[\\x01'\n",
      "b'\\x96'\n",
      "b'\\xc5'\n",
      "--------------------\n",
      "b'Cvd\\x97E^\\xaf\\x190U\\xb6\\x18\\x92\\xcd\\xd5\\xca\\x03\\x1a\\xe6\\xa6\\xb0_\\x7fP\\xc5\\xd7\\x83\\xfc\\x02%[\\x01'\n",
      "b'\\x96'\n",
      "b'\\x85'\n",
      "--------------------\n",
      "b'\\xa2\\tl\\x99\\x17\\x90\\x9fr\\xda\\x83\\x8f\\xc4\\xec\\x06\\xda\\x8b\\x03\\x8c\\xe6\\xa6\\xb0_\\x7fP\\xc5\\xd7\\x83\\xfc\\x02%[\\x01'\n",
      "b'\\x96'\n",
      "b'\\xef'\n",
      "--------------------\n",
      "b'\\x0b\\x80\\xdf\\x99\\x1bM$\\xe7\\xb3C\\x92i\\xe6\\xba\\t\\xa5\\x95\\x8c\\xe6\\xa6\\xb0_\\x7fP\\xc5\\xd7\\x83\\xfc\\x02%[\\x01'\n",
      "b'\\x96'\n",
      "b'\\xf6'\n",
      "--------------------\n"
     ]
    }
   ],
   "source": [
    "\n",
    "for j in range(15 , -1 , -1):\n",
    "    for i in range(256):\n",
    "        cipher_text = b\"\\x00\"*j + i.to_bytes(1 , 'big')*(16-j) + cipher_list[1]# + cipher_list[2] \n",
    "        if(t.check(cipher_text) == b'access granted'):\n",
    "            print(i.to_bytes(1 , 'big'))\n",
    "            p_2 = int.from_bytes(b\"\\x01\", byteorder='big') ^ cipher_list[0][j] ^ i\n",
    "            # p_2 = (16-j) ^ cipher_list[0][j] ^ i\n",
    "            print(p_2.to_bytes(1 , 'big'))\n",
    "        else:\n",
    "            pass\n",
    "    print(\"--\"*10)"
   ]
  },
  {
   "cell_type": "code",
   "execution_count": 87,
   "id": "ca720c5c",
   "metadata": {},
   "outputs": [
    {
     "name": "stdout",
     "output_type": "stream",
     "text": [
      "1\n"
     ]
    }
   ],
   "source": [
    "print(int.from_bytes(b\"\\x01\", byteorder='big'))"
   ]
  },
  {
   "cell_type": "code",
   "execution_count": 64,
   "id": "ec2f618b",
   "metadata": {},
   "outputs": [
    {
     "name": "stdout",
     "output_type": "stream",
     "text": [
      "b'aaaaaaaaaaaaaaaa\\xe0\\x8e\\xb3\\x02(\\xcb\\xa1n\\x95D\\x90\\xb3BMS['\n"
     ]
    },
    {
     "data": {
      "text/plain": [
       "b'access denied [padding error]'"
      ]
     },
     "execution_count": 64,
     "metadata": {},
     "output_type": "execute_result"
    }
   ],
   "source": [
    "t.check(b'ax\\x12RD\\xab\\x8b\\xa41#w\\x08\\xf6\\xd1\\xaf\\xf5b\\xaf\\xeb\\xb9\\xf3\\x99\\xad\\x12\\xf8H\\xa9\\xbcMY\\x18*')"
   ]
  },
  {
   "cell_type": "code",
   "execution_count": null,
   "id": "ea1a7ccb",
   "metadata": {},
   "outputs": [],
   "source": [
    "blockprime[character] = chr((blocksize - character) ^ ord(previous[character]) ^ ord(current_guess))\n",
    "\n",
    "\n"
   ]
  },
  {
   "cell_type": "code",
   "execution_count": 171,
   "id": "cce1dc19",
   "metadata": {},
   "outputs": [
    {
     "ename": "IndexError",
     "evalue": "tuple index out of range",
     "output_type": "error",
     "traceback": [
      "\u001b[1;31m---------------------------------------------------------------------------\u001b[0m",
      "\u001b[1;31mIndexError\u001b[0m                                Traceback (most recent call last)",
      "Cell \u001b[1;32mIn[171], line 7\u001b[0m\n\u001b[0;32m      5\u001b[0m blockprime \u001b[39m=\u001b[39m \u001b[39mb\u001b[39m\u001b[39m\"\u001b[39m\u001b[39m\\x00\u001b[39;00m\u001b[39m\"\u001b[39m \u001b[39m*\u001b[39m blocksize\n\u001b[0;32m      6\u001b[0m \u001b[39mfor\u001b[39;00m i \u001b[39min\u001b[39;00m \u001b[39mrange\u001b[39m(blocksize \u001b[39m-\u001b[39m \u001b[39m1\u001b[39m, character, \u001b[39m-\u001b[39m\u001b[39m1\u001b[39m):\n\u001b[1;32m----> 7\u001b[0m     blockprime[i] \u001b[39m=\u001b[39m \u001b[39mchr\u001b[39m(\u001b[39mord\u001b[39m(plaintext[i]) \u001b[39m^\u001b[39m (blocksize \u001b[39m-\u001b[39m character) \u001b[39m^\u001b[39m \u001b[39mord\u001b[39m(previous[i]))\n",
      "\u001b[1;31mIndexError\u001b[0m: tuple index out of range"
     ]
    }
   ],
   "source": [
    "blocksize = 15\n",
    "plaintext = b'ax\\x12RD\\xab\\x8b\\xa41#w\\x08\\xf6\\xd1\\xaf\\xf5',\n",
    "previous = b'\\xe6>\\xaac\\x1b\\xe1\\xe32j\\xb7\\xd3!o\\x1d\\xad\\xb4',\n",
    "b'm\\xdb\\xdaJ\\x04\\xba\\xe9\"\\x88\\xb9\\x84$\\xc6u\\xe1\\xcd'\n",
    "blockprime = b\"\\x00\" * blocksize\n",
    "for i in range(blocksize - 1, character, -1):\n",
    "    blockprime[i] = chr(ord(plaintext[i]) ^ (blocksize - character) ^ ord(previous[i]))\n"
   ]
  },
  {
   "cell_type": "code",
   "execution_count": null,
   "id": "b460444c",
   "metadata": {},
   "outputs": [],
   "source": []
  },
  {
   "attachments": {},
   "cell_type": "markdown",
   "id": "f0e66256",
   "metadata": {},
   "source": [
    "# lab 08 : CTR Bit flipping"
   ]
  },
  {
   "cell_type": "code",
   "execution_count": 52,
   "id": "6ba18841",
   "metadata": {},
   "outputs": [
    {
     "data": {
      "text/plain": [
       "b'logged in as user'"
      ]
     },
     "execution_count": 52,
     "metadata": {},
     "output_type": "execute_result"
    }
   ],
   "source": [
    "c = get_result('lab8_generate_cookie' , \";admin=true;\" )\n",
    "get_result('lab8_login' , c , byte_object=True)"
   ]
  },
  {
   "attachments": {},
   "cell_type": "markdown",
   "id": "68cd6b2f",
   "metadata": {},
   "source": [
    "#### 1 - get the start location of the payload in the cipher text (2 blocks then the block changes)"
   ]
  },
  {
   "cell_type": "code",
   "execution_count": 51,
   "id": "3c713397",
   "metadata": {},
   "outputs": [
    {
     "name": "stdout",
     "output_type": "stream",
     "text": [
      "0 \t b'\\x9d\"/\\xa6\\x92Rr\\xa8\\xe6@U\\xd33\\xf52-'\n",
      "1 \t b'\\xc7z#\\xa4\\x92Zy\\xb2\\xa0OM\\xc41\\xa97/'\n",
      "2 \t b'\\xc7 {\\xa8\\x90Zq\\xb9\\xba\\tB\\xdc&\\xabk*'\n",
      "3 \t b'\\xc7 !\\xf0\\x9cXq\\xb1\\xb1\\x13\\x04\\xd3>\\xbciv'\n",
      "4 \t b'\\xc7 !\\xaa\\xc4Ts\\xb1\\xb9\\x18\\x1e\\x951\\xa4~t'\n",
      "5 \t b'\\xc7 !\\xaa\\x9e\\x0c\\x7f\\xb3\\xb9\\x10\\x15\\x8fw\\xabfc'\n",
      "6 \t b\"\\xc7 !\\xaa\\x9eV'\\xbf\\xbb\\x10\\x1d\\x84m\\xedi{\"\n",
      "7 \t b'\\xc7 !\\xaa\\x9eV}\\xe7\\xb7\\x12\\x1d\\x8cf\\xf7/t'\n",
      "8 \t b'\\xc7 !\\xaa\\x9eV}\\xbd\\xef\\x1e\\x1f\\x8cn\\xfc52'\n",
      "9 \t b'\\xc7 !\\xaa\\x9eV}\\xbd\\xb5F\\x13\\x8en\\xf4>('\n",
      "10 \t b'\\xc7 !\\xaa\\x9eV}\\xbd\\xb5\\x1cK\\x82l\\xf46#'\n",
      "11 \t b'\\xc7 !\\xaa\\x9eV}\\xbd\\xb5\\x1c\\x11\\xda`\\xf66+'\n",
      "12 \t b'\\xc7 !\\xaa\\x9eV}\\xbd\\xb5\\x1c\\x11\\x808\\xfa4+'\n",
      "13 \t b'\\xc7 !\\xaa\\x9eV}\\xbd\\xb5\\x1c\\x11\\x80b\\xa28)'\n",
      "14 \t b'\\xc7 !\\xaa\\x9eV}\\xbd\\xb5\\x1c\\x11\\x80b\\xf8`%'\n",
      "15 \t b'\\xc7 !\\xaa\\x9eV}\\xbd\\xb5\\x1c\\x11\\x80b\\xf8:}'\n"
     ]
    }
   ],
   "source": [
    "for i in range(16):\n",
    "    c = get_result('lab8_generate_cookie' , \"a\"*i , byte_object=True)\n",
    "    \n",
    "    # change this to get the block of interest\n",
    "    printed_block = 2\n",
    "    print(i, \"\\t\" , c[16*printed_block : 16*(printed_block+1)])"
   ]
  },
  {
   "attachments": {},
   "cell_type": "markdown",
   "id": "b4c15aee",
   "metadata": {},
   "source": [
    "* so the first 2 blocks are always the same so the third block is the block of interest\n",
    "* if we look to the diagonal pattern we an asay that the A's starts from the start of the block\n",
    "* so if we want to flip the `?` sign in `;admin?true;` into `=` we are interisted in index `6` of the cipher text "
   ]
  },
  {
   "cell_type": "code",
   "execution_count": 68,
   "id": "cef02757",
   "metadata": {},
   "outputs": [
    {
     "name": "stdout",
     "output_type": "stream",
     "text": [
      "c[n] =  35\n",
      "c`[n] =  33\n"
     ]
    },
    {
     "data": {
      "text/plain": [
       "'c6 c9 22 36 ee 38 d3 6d b3 54 68 ac b4 3c b4 a8 6c b0 0c 09 d6 d4 a8 36 9b f2 09 54 84 db a0 6d 9d 20 24 a6 96 59 21 a8 a6 08 15 da 38 fa 34 2b c3 9e dd ea 3f 6b a5 b2 13 4a 5c 7c e6 b0 29 8e fd 39 d7 8d 40 7c 29 fe 41 bd ff 44 21 7a b3 e4 75 23 0c 5e 64 f2 32 94 2c 38 88 f7 65 60 4b b6'"
      ]
     },
     "execution_count": 68,
     "metadata": {},
     "output_type": "execute_result"
    }
   ],
   "source": [
    "c = get_result('lab8_generate_cookie' , \";admin=true;\" , byte_object=True)\n",
    "block_of_interst = 2 \n",
    "flipping_byte_index = 6\n",
    "cipher_text_byte_array = bytearray(c)\n",
    "c_n = cipher_text_byte_array[block_of_interst*16 + flipping_byte_index]\n",
    "print(\"c[n] = \" , c_n)\n",
    "c_dash_n = c_n ^ int.from_bytes(b'?', 'big') ^ int.from_bytes(b'=', 'big')\n",
    "print(\"c`[n] = \" ,c_dash_n)\n",
    "cipher_text_byte_array[block_of_interst*16 + flipping_byte_index] = c_dash_n\n",
    "\n",
    "# convert byte array to hex string to send to the server\n",
    "hex_string =  ' '.join([format(byte, '02x') for byte in bytes(cipher_text_byte_array)])\n",
    "hex_string\n"
   ]
  },
  {
   "cell_type": "code",
   "execution_count": 67,
   "id": "0379dd1b",
   "metadata": {},
   "outputs": [
    {
     "data": {
      "text/plain": [
       "b'logged in as admin'"
      ]
     },
     "execution_count": 67,
     "metadata": {},
     "output_type": "execute_result"
    }
   ],
   "source": [
    "# try to login with the new manipulated cipher text\n",
    "get_result('lab8_login' , hex_string , byte_object=True)"
   ]
  }
 ],
 "metadata": {
  "kernelspec": {
   "display_name": "Python 3 (ipykernel)",
   "language": "python",
   "name": "python3"
  },
  "language_info": {
   "codemirror_mode": {
    "name": "ipython",
    "version": 3
   },
   "file_extension": ".py",
   "mimetype": "text/x-python",
   "name": "python",
   "nbconvert_exporter": "python",
   "pygments_lexer": "ipython3",
   "version": "3.10.9"
  }
 },
 "nbformat": 4,
 "nbformat_minor": 5
}
