{
 "cells": [
  {
   "attachments": {},
   "cell_type": "markdown",
   "id": "e031a59c",
   "metadata": {},
   "source": [
    "# symmetric cryptography lab"
   ]
  },
  {
   "attachments": {},
   "cell_type": "markdown",
   "id": "43655212",
   "metadata": {},
   "source": [
    "### lab setup\n",
    "* after building and running the docker image a server starts on localhost:5000\n",
    "* the server contains 8 labs named as \n",
    "\n",
    "| Lab Code | Lab Name               | File Name in Docker Image               | Code           |\n",
    "|----------|------------------------|----------------------------------------|----------------|\n",
    "| Lab 00   | Setup                  | -                                      | -              |\n",
    "| Lab 01   | Block size detection   | Lab_01_Block_size_detection.py         | /lab1_algo1 , /lab1_algo2 |\n",
    "| Lab 02   | Mode detection         | Lab_02_Mode_detection.py               | /lab2_algo1 , /lab2_algo2          |\n",
    "| Lab 03   | ECB byte at a time     | Lab_03_ECB_byte_at_a_time.py           | /lab3          |\n",
    "| Lab 04   | CBC IV detection       | Lab_04_CBC_IV_detection.py             | /lab4_enc , /lab4_dec         |\n",
    "| Lab 05   | CBC bit flipping       | Lab_05_CBC_bit_flipping.py             | /lab5_generate_cookie , /lab5_login           |\n",
    "| Lab 06   | CBC byte at a time     | Lab_06_CBC_byte_at_a_time.py           | /lab6          |\n",
    "| Lab 07   | CBC padding            | Lab_07_CBC_padding.py                  | /lab7          |\n",
    "| Lab 08   | CTR Bit flipping       | Lab_08_CTR_Bit_flipping.py             | /lab8          |\n",
    "\n"
   ]
  },
  {
   "attachments": {},
   "cell_type": "markdown",
   "id": "a9aeb5f0",
   "metadata": {},
   "source": [
    "* to access any lab we will use `get_result(lab_name , input_data , byte_object = False)` function below\n",
    "* use the lab code listed in the table above to access the lab as `get_result(\"lab3\" , 'plain text' , byte_object=True)`\n",
    "* the function connects to the server, send a requests' payload and return the resuld\n",
    "* the result is formated in text format represents hex values as `e0 38 06 01 7a 30 bb 37 e9 9d 4c 89 ed 3a 0e 8b`\n",
    "* to convert the hex string to byte object for easier calculations `byte_object` to `True`"
   ]
  },
  {
   "cell_type": "code",
   "execution_count": 12,
   "id": "6e909bc7",
   "metadata": {},
   "outputs": [
    {
     "name": "stdout",
     "output_type": "stream",
     "text": [
      "hex as string f4 1e 89 34 80 36 bc 84 b1 c7 55 17 7e 05 40 75 78 de 0b 21 eb 3b c5 9a 01 36 15 cd 18 2f 24 8b\n",
      "byte objct    b'\\xf4\\x1e\\x894\\x806\\xbc\\x84\\xb1\\xc7U\\x17~\\x05@ux\\xde\\x0b!\\xeb;\\xc5\\x9a\\x016\\x15\\xcd\\x18/$\\x8b'\n"
     ]
    }
   ],
   "source": [
    "import requests\n",
    "\n",
    "def get_result(lab_name , input_data , byte_object = False):\n",
    "    try:\n",
    "        url = f'http://localhost:5000/{lab_name}'\n",
    "        input_string = input_data\n",
    "        payload = {'text': input_string}\n",
    "        response = requests.post(url, data=payload)\n",
    "        if byte_object == False:\n",
    "            return response.text\n",
    "        else:\n",
    "            return bytes.fromhex(response.text.replace(' ', ''))\n",
    "    except:\n",
    "        pass\n",
    "\n",
    "# example of dealing with lab environment\n",
    "print(\"hex as string\" , get_result(\"lab3\" , \"plain text\"))\n",
    "print(\"byte objct   \" , get_result(\"lab3\" , \"plain text\" , byte_object=True ))"
   ]
  },
  {
   "attachments": {},
   "cell_type": "markdown",
   "id": "9c78298a",
   "metadata": {},
   "source": [
    "# Lab 01 : Block size detection"
   ]
  },
  {
   "attachments": {},
   "cell_type": "markdown",
   "id": "53dc5368",
   "metadata": {},
   "source": [
    "## 01 - Detect block size \n",
    "* this lab has 2 algorithms whict can be accessed as \n",
    "    * lab1_algo1\n",
    "    * lab1_algo2"
   ]
  },
  {
   "attachments": {},
   "cell_type": "markdown",
   "id": "517cfd86",
   "metadata": {},
   "source": [
    "### 01 - detect block size of algorithem 1"
   ]
  },
  {
   "cell_type": "code",
   "execution_count": 13,
   "id": "62289e48",
   "metadata": {},
   "outputs": [
    {
     "name": "stdout",
     "output_type": "stream",
     "text": [
      "plain text length\t 5 \tcipher text length\t 16\n",
      "plain text length\t 6 \tcipher text length\t 16\n",
      "plain text length\t 7 \tcipher text length\t 16\n",
      "plain text length\t 8 \tcipher text length\t 16\n",
      "plain text length\t 9 \tcipher text length\t 16\n",
      "plain text length\t 10 \tcipher text length\t 16\n",
      "plain text length\t 11 \tcipher text length\t 16\n",
      "plain text length\t 12 \tcipher text length\t 16\n",
      "plain text length\t 13 \tcipher text length\t 16\n",
      "plain text length\t 14 \tcipher text length\t 16\n",
      "plain text length\t 15 \tcipher text length\t 16\n",
      "plain text length\t 16 \tcipher text length\t 16\n",
      "plain text length\t 17 \tcipher text length\t 32\n",
      "plain text length\t 18 \tcipher text length\t 32\n",
      "plain text length\t 19 \tcipher text length\t 32\n"
     ]
    }
   ],
   "source": [
    "for i in range(5 , 20):\n",
    "    cipher_text = get_result(\"lab1_algo1\" , 'A'*i , byte_object=True)\n",
    "    print(\"plain text length\\t\" , i , \"\\tcipher text length\\t\" , len(cipher_text))"
   ]
  },
  {
   "attachments": {},
   "cell_type": "markdown",
   "id": "44be648e",
   "metadata": {},
   "source": [
    "* the algorithem is mostly AES due to the block size and the wide use of AES"
   ]
  },
  {
   "attachments": {},
   "cell_type": "markdown",
   "id": "210cb13e",
   "metadata": {},
   "source": [
    "### 01 - detect block size of algorithem 2"
   ]
  },
  {
   "cell_type": "code",
   "execution_count": 14,
   "id": "8adf94d3",
   "metadata": {},
   "outputs": [
    {
     "name": "stdout",
     "output_type": "stream",
     "text": [
      "plain text length\t 5 \tcipher text length\t 8\n",
      "plain text length\t 6 \tcipher text length\t 8\n",
      "plain text length\t 7 \tcipher text length\t 8\n",
      "plain text length\t 8 \tcipher text length\t 8\n",
      "plain text length\t 9 \tcipher text length\t 16\n",
      "plain text length\t 10 \tcipher text length\t 16\n",
      "plain text length\t 11 \tcipher text length\t 16\n",
      "plain text length\t 12 \tcipher text length\t 16\n",
      "plain text length\t 13 \tcipher text length\t 16\n",
      "plain text length\t 14 \tcipher text length\t 16\n",
      "plain text length\t 15 \tcipher text length\t 16\n",
      "plain text length\t 16 \tcipher text length\t 16\n",
      "plain text length\t 17 \tcipher text length\t 24\n",
      "plain text length\t 18 \tcipher text length\t 24\n",
      "plain text length\t 19 \tcipher text length\t 24\n"
     ]
    }
   ],
   "source": [
    "for i in range(5 , 20):\n",
    "    cipher_text = get_result(\"lab1_algo2\" , 'A'*i , byte_object=True)\n",
    "    print(\"plain text length\\t\" , i , \"\\tcipher text length\\t\" , len(cipher_text))"
   ]
  },
  {
   "attachments": {},
   "cell_type": "markdown",
   "id": "c9eac1d5",
   "metadata": {},
   "source": [
    "* the algorithem is DES due to the 8 bytes block size"
   ]
  },
  {
   "attachments": {},
   "cell_type": "markdown",
   "id": "12587212",
   "metadata": {},
   "source": [
    "#### here are some of block cipher encryption algorithms and it's corresponding block size and key size\n",
    "| Algorithm                                   | Block Size (bytes) | Key Size (bits) |\n",
    "|---------------------------------------------|--------------------|-----------------|\n",
    "| AES (Advanced Encryption Standard)           | 16                 | 128, 192, 256   |\n",
    "| DES (Data Encryption Standard)               | 8                  | 56               |\n",
    "| Triple DES (3DES)                            | 8                  | 168              |\n",
    "| Blowfish                                     | 8                  | 32 to 448        |\n",
    "| Twofish                                      | 16                 | 128, 192, 256   |\n",
    "| Camellia                                     | 16                 | 128, 192, 256   |\n",
    "| Serpent                                      | 16                 | 128, 192, 256   |\n",
    "| IDEA (International Data Encryption Algorithm)| 8                  | 128              |\n",
    "| CAST-128                                     | 8                  | 40 to 128        |\n"
   ]
  },
  {
   "attachments": {},
   "cell_type": "markdown",
   "id": "173ca026",
   "metadata": {},
   "source": [
    "# Lab 02 : mode detection"
   ]
  },
  {
   "cell_type": "code",
   "execution_count": 15,
   "id": "224e9a1c",
   "metadata": {},
   "outputs": [
    {
     "name": "stdout",
     "output_type": "stream",
     "text": [
      "ECB-mode       87 4a de 45 9a da aa 84 45 f2 e7 5c e9 68 26 95 87 4a de 45 9a da aa 84 45 f2 e7 5c e9 68 26 95\n",
      "noneECB-mode   6a 49 c4 98 96 39 80 9c 8f 47 74 fb 37 f7 89 dc 80 39 eb a4 bd 32 3c 21 32 b6 8b e0 c1 42 0e 20\n"
     ]
    }
   ],
   "source": [
    "print('ECB-mode      ' , get_result(\"lab2_algo1\" , b\"aaaaaaaaaaaaaaaaaaaaaaaaaaaaaaaa\")) # 2 block encrypted with ECB\n",
    "print('noneECB-mode  ' , get_result(\"lab2_algo2\" , b\"aaaaaaaaaaaaaaaaaaaaaaaaaaaaaaaa\")) # 2 block encrypted with CBC"
   ]
  },
  {
   "attachments": {},
   "cell_type": "markdown",
   "id": "18568efd",
   "metadata": {},
   "source": [
    "the 2 blocks resulted the same cipher text in ECB mode\n",
    "\n",
    "\n",
    "* AES-ECB-mode <span style=\"color: gray;\">87 4a de 45 9a da aa 84 45 f2 e7 5c e9 68 26 95</span>\n",
    "               <span style=\"color: gray;\">87 4a de 45 9a da aa 84 45 f2 e7 5c e9 68 26 95</span>\n",
    "\n",
    "the 2 blocks resulted the diffrent cipher text in ECB mode\n",
    "* AES-CBC-mode <span style=\"color: green;\">ed 11 7c 6a 33 12 7a 6c cc f8 8e df 4e f5 7a 7e </span>\n",
    "               <span style=\"color: blue;\">41 d0 12 0f 5f b8 df 2f 5b 42 70 2b e4 34 ab 38</span>"
   ]
  },
  {
   "attachments": {},
   "cell_type": "markdown",
   "id": "79ce0d3b",
   "metadata": {},
   "source": [
    "# Lab 03 : ECB byte at a time"
   ]
  },
  {
   "attachments": {},
   "cell_type": "markdown",
   "id": "edcb51ce",
   "metadata": {},
   "source": [
    "#### 1 - get block size"
   ]
  },
  {
   "attachments": {},
   "cell_type": "markdown",
   "id": "9f927366",
   "metadata": {},
   "source": [
    "![Alt Text](Asset1.png)"
   ]
  },
  {
   "cell_type": "code",
   "execution_count": 16,
   "id": "581a28f7",
   "metadata": {},
   "outputs": [
    {
     "name": "stdout",
     "output_type": "stream",
     "text": [
      "1    32    b\"\\xe8\\xc6\\x97\\xeb\\xa3#'b\\xbdb\\x86\\xdb\\x813zR\\xe24\\xfd\\xe5\\xb3\\xc0U\\xd8\\x17?k\\xd6q%\\xc3\\x8d\"\n",
      "2    32    b'\\x89\\xc0\\xb53\\x03\\x8co\\x1d\\xfcZ\":\\xe5\\xf0\\x94\\xc6\\xce\\xa8\\xc2W}\\rF\\x8b\\xd4\\x93:]\\xac7\\xbbM'\n",
      "3    32    b'\\xfb\\xc5\\xd3\\xbb\\x81\\x85\\xc7:\\xe1\\xb6+>\\x11f\\xaf7\\x19\\x7fWkM\\x954?az\\x9f%5e\\xe5n'\n",
      "4    32    b\"\\xaf\\x84Q`\\xc8\\x95\\xe9'\\xd3\\x05\\xd6\\x8a\\xec\\xc0C\\xb3\\xe9\\x1e\\xc0\\xe0\\xf4k`\\xec\\xd0\\x81/f\\x98\\xf2\\xf1c\"\n",
      "5    32    b'\\r\\x8f\\xb9A\\xca\\xb8w\\x1f\\x16g.\\xf9\\x91\\x11\\x80\\x16\\\\\\xf9\\xd9C\\xb8w\\xdcH5JT\\x98\\xe5\\xd4\\xc4('\n",
      "6    32    b'(\\x91\\x84tM-\\x96\\xa0\\xed;\\x91\\xbfD\\xf8\\xa6\\x9d\\x90\\xa7\\xe4QRBgP\\tSFg\\xe7aD\\xaa'\n",
      "7    32    b'\\x0b\\xb1U\\x05\\xdd\\x06j\\xf4\\x9b\\xa7\\x19\\x93&\\x1d\\x8c-\\x9f\\x80|\\xe1OF*\\xbd%\\x8f\\x92:I\\x16\\x8e\\xcd'\n",
      "8    32    b'#\\xee\\xb0\\x9e\\x96\\xee\\x86\\xca\\xb2\"\\xff:\\xbf\\xde\\x8b\\xb9n=\\x12\\xe48\\x15\\xed\\x9fn\\x98\\xd0\\x91^\\xaf\\xa0\\xa2'\n",
      "9    32    b'SY\\xee\\xb9\\xfd0\\xc1\\xf7\\x87\\xcbr\\xcda\\xd9\\x15j\\x046[\\x1a\\xe7(\\xd8\\xa5\\xebiU\\xb3\\x89\\xa0\\x16\\xf8'\n",
      "10    32    b'\\xb9\\x033\\xc1\\xe2<\\x1a-\\x99\\xc2o\\xba\\x9cb|\\xffx\\xde\\x0b!\\xeb;\\xc5\\x9a\\x016\\x15\\xcd\\x18/$\\x8b'\n",
      "11    32    b\"\\xf4j\\x8e\\xd6\\x04\\xd1\\x0c\\xdd\\x9cD'i\\xaf\\xdb\\xa0\\x88\\x85\\x1d~\\x02\\xcer\\xc1q\\t\\xe9\\xb8q\\xa1\\xadv\\t\"\n",
      "12    32    b'[\\x1c\\x19h%w\\xefh\\xc6\\xd48\\x9b:u\\xf9@\\xf0\\xee\\\\\\x03\\xe3\\x18\\xcaV=\\xe5\\xd9\\x9a\\x0f\\xa2\\xab\\xdd'\n",
      "13    32    b'V\\t4\\x8e\\xd7\\x99\\xc7\\x85\\x85Z\\x0c\\x8e\\xef\\x8b\\xd34\\xeb\\x10q\\x94\\xed\\xdc\\xa5\\xc3\\xbcaS\\xba\\xcc\\xdc\\x04\\xbc'\n",
      "14    32    b'EM\\xc1\\xc2\\x97\\x95\\xbd/\\xc9\\xb7w\\xb9f\\xd4tI\\xd2G\\xbe\\xb3\\x9d\\x93\\xe3\\xdb<0\\xde\\xe0\\x18!\\x19\\x9e'\n",
      "15    32    b\"\\x8e\\xf0\\x9f\\xee\\xad\\x0bES\\xf2a8\\xb2\\xb2<'\\xcf92\\x16\\xcf\\xc3\\xefdS\\x08,\\xa0L\\x95\\x0c\\x1d\\xbd\"\n",
      "16    32    b'\\x87J\\xdeE\\x9a\\xda\\xaa\\x84E\\xf2\\xe7\\\\\\xe9h&\\x95\\xe08\\x06\\x01z0\\xbb7\\xe9\\x9dL\\x89\\xed:\\x0e\\x8b'\n",
      "17    48    b\"\\x87J\\xdeE\\x9a\\xda\\xaa\\x84E\\xf2\\xe7\\\\\\xe9h&\\x95\\xe8\\xc6\\x97\\xeb\\xa3#'b\\xbdb\\x86\\xdb\\x813zR\\xe24\\xfd\\xe5\\xb3\\xc0U\\xd8\\x17?k\\xd6q%\\xc3\\x8d\"\n",
      "18    48    b'\\x87J\\xdeE\\x9a\\xda\\xaa\\x84E\\xf2\\xe7\\\\\\xe9h&\\x95\\x89\\xc0\\xb53\\x03\\x8co\\x1d\\xfcZ\":\\xe5\\xf0\\x94\\xc6\\xce\\xa8\\xc2W}\\rF\\x8b\\xd4\\x93:]\\xac7\\xbbM'\n",
      "19    48    b'\\x87J\\xdeE\\x9a\\xda\\xaa\\x84E\\xf2\\xe7\\\\\\xe9h&\\x95\\xfb\\xc5\\xd3\\xbb\\x81\\x85\\xc7:\\xe1\\xb6+>\\x11f\\xaf7\\x19\\x7fWkM\\x954?az\\x9f%5e\\xe5n'\n"
     ]
    }
   ],
   "source": [
    "for i in range(1,20):\n",
    "    cipher_text = get_result(\"lab3\" , \"a\"*i  , byte_object=True)\n",
    "    print(i , \"  \" , len(cipher_text), \"  \" , cipher_text)\n",
    "#     print(len(cipher_text))"
   ]
  },
  {
   "attachments": {},
   "cell_type": "markdown",
   "id": "ce7c38e8",
   "metadata": {},
   "source": [
    "* block size = 16\n",
    "* secret size is 16 byte also (because the number of cipher block starts to increase when the plain text size was 16)\n",
    "* the mode is ECB , note the first cipher block when plain text length is more than 16\n"
   ]
  },
  {
   "attachments": {},
   "cell_type": "markdown",
   "id": "aa77ea3e",
   "metadata": {},
   "source": [
    "#### 2 - get first the cipher block for data length from 0 to 16"
   ]
  },
  {
   "cell_type": "code",
   "execution_count": 17,
   "id": "23c340b0",
   "metadata": {},
   "outputs": [
    {
     "data": {
      "text/plain": [
       "[b'\\xe08\\x06\\x01z0\\xbb7\\xe9\\x9dL\\x89\\xed:\\x0e\\x8b',\n",
       " b\"\\xe8\\xc6\\x97\\xeb\\xa3#'b\\xbdb\\x86\\xdb\\x813zR\",\n",
       " b'\\x89\\xc0\\xb53\\x03\\x8co\\x1d\\xfcZ\":\\xe5\\xf0\\x94\\xc6',\n",
       " b'\\xfb\\xc5\\xd3\\xbb\\x81\\x85\\xc7:\\xe1\\xb6+>\\x11f\\xaf7',\n",
       " b\"\\xaf\\x84Q`\\xc8\\x95\\xe9'\\xd3\\x05\\xd6\\x8a\\xec\\xc0C\\xb3\",\n",
       " b'\\r\\x8f\\xb9A\\xca\\xb8w\\x1f\\x16g.\\xf9\\x91\\x11\\x80\\x16',\n",
       " b'(\\x91\\x84tM-\\x96\\xa0\\xed;\\x91\\xbfD\\xf8\\xa6\\x9d',\n",
       " b'\\x0b\\xb1U\\x05\\xdd\\x06j\\xf4\\x9b\\xa7\\x19\\x93&\\x1d\\x8c-',\n",
       " b'#\\xee\\xb0\\x9e\\x96\\xee\\x86\\xca\\xb2\"\\xff:\\xbf\\xde\\x8b\\xb9',\n",
       " b'SY\\xee\\xb9\\xfd0\\xc1\\xf7\\x87\\xcbr\\xcda\\xd9\\x15j',\n",
       " b'\\xb9\\x033\\xc1\\xe2<\\x1a-\\x99\\xc2o\\xba\\x9cb|\\xff',\n",
       " b\"\\xf4j\\x8e\\xd6\\x04\\xd1\\x0c\\xdd\\x9cD'i\\xaf\\xdb\\xa0\\x88\",\n",
       " b'[\\x1c\\x19h%w\\xefh\\xc6\\xd48\\x9b:u\\xf9@',\n",
       " b'V\\t4\\x8e\\xd7\\x99\\xc7\\x85\\x85Z\\x0c\\x8e\\xef\\x8b\\xd34',\n",
       " b'EM\\xc1\\xc2\\x97\\x95\\xbd/\\xc9\\xb7w\\xb9f\\xd4tI',\n",
       " b\"\\x8e\\xf0\\x9f\\xee\\xad\\x0bES\\xf2a8\\xb2\\xb2<'\\xcf\"]"
      ]
     },
     "execution_count": 17,
     "metadata": {},
     "output_type": "execute_result"
    }
   ],
   "source": [
    "secret_string_length = 16\n",
    "first_cipher_blocks = []\n",
    "for i in range(0,secret_string_length):\n",
    "    first_cipher_blocks.append(get_result(\"lab3\" , 'a'*i , byte_object=True)[:16])\n",
    "\n",
    "first_cipher_blocks"
   ]
  },
  {
   "attachments": {},
   "cell_type": "markdown",
   "id": "85a7ec84",
   "metadata": {},
   "source": [
    "#### 3 - try to brute force the secret string"
   ]
  },
  {
   "cell_type": "code",
   "execution_count": 19,
   "id": "2e885d04",
   "metadata": {},
   "outputs": [
    {
     "name": "stdout",
     "output_type": "stream",
     "text": [
      "b'aaaaaaaaaaaaaaaM' b\"\\x8e\\xf0\\x9f\\xee\\xad\\x0bES\\xf2a8\\xb2\\xb2<'\\xcf\\xe08\\x06\\x01z0\\xbb7\\xe9\\x9dL\\x89\\xed:\\x0e\\x8b\"\n",
      "b'aaaaaaaaaaaaaaMA' b'EM\\xc1\\xc2\\x97\\x95\\xbd/\\xc9\\xb7w\\xb9f\\xd4tI\\xe08\\x06\\x01z0\\xbb7\\xe9\\x9dL\\x89\\xed:\\x0e\\x8b'\n",
      "b'aaaaaaaaaaaaaMAH' b'V\\t4\\x8e\\xd7\\x99\\xc7\\x85\\x85Z\\x0c\\x8e\\xef\\x8b\\xd34\\xe08\\x06\\x01z0\\xbb7\\xe9\\x9dL\\x89\\xed:\\x0e\\x8b'\n",
      "b'aaaaaaaaaaaaMAHA' b'[\\x1c\\x19h%w\\xefh\\xc6\\xd48\\x9b:u\\xf9@\\xe08\\x06\\x01z0\\xbb7\\xe9\\x9dL\\x89\\xed:\\x0e\\x8b'\n",
      "b'aaaaaaaaaaaMAHAR' b\"\\xf4j\\x8e\\xd6\\x04\\xd1\\x0c\\xdd\\x9cD'i\\xaf\\xdb\\xa0\\x88\\xe08\\x06\\x01z0\\xbb7\\xe9\\x9dL\\x89\\xed:\\x0e\\x8b\"\n",
      "b'aaaaaaaaaaMAHARA' b'\\xb9\\x033\\xc1\\xe2<\\x1a-\\x99\\xc2o\\xba\\x9cb|\\xff\\xe08\\x06\\x01z0\\xbb7\\xe9\\x9dL\\x89\\xed:\\x0e\\x8b'\n",
      "b'aaaaaaaaaMAHARA_' b'SY\\xee\\xb9\\xfd0\\xc1\\xf7\\x87\\xcbr\\xcda\\xd9\\x15j\\xe08\\x06\\x01z0\\xbb7\\xe9\\x9dL\\x89\\xed:\\x0e\\x8b'\n",
      "b'aaaaaaaaMAHARA_T' b'#\\xee\\xb0\\x9e\\x96\\xee\\x86\\xca\\xb2\"\\xff:\\xbf\\xde\\x8b\\xb9\\xe08\\x06\\x01z0\\xbb7\\xe9\\x9dL\\x89\\xed:\\x0e\\x8b'\n",
      "b'aaaaaaaMAHARA_TE' b'\\x0b\\xb1U\\x05\\xdd\\x06j\\xf4\\x9b\\xa7\\x19\\x93&\\x1d\\x8c-\\xe08\\x06\\x01z0\\xbb7\\xe9\\x9dL\\x89\\xed:\\x0e\\x8b'\n",
      "b'aaaaaaMAHARA_TEC' b'(\\x91\\x84tM-\\x96\\xa0\\xed;\\x91\\xbfD\\xf8\\xa6\\x9d\\xe08\\x06\\x01z0\\xbb7\\xe9\\x9dL\\x89\\xed:\\x0e\\x8b'\n",
      "b'aaaaaMAHARA_TECH' b'\\r\\x8f\\xb9A\\xca\\xb8w\\x1f\\x16g.\\xf9\\x91\\x11\\x80\\x16\\xe08\\x06\\x01z0\\xbb7\\xe9\\x9dL\\x89\\xed:\\x0e\\x8b'\n",
      "b'aaaaMAHARA_TECH_' b\"\\xaf\\x84Q`\\xc8\\x95\\xe9'\\xd3\\x05\\xd6\\x8a\\xec\\xc0C\\xb3\\xe08\\x06\\x01z0\\xbb7\\xe9\\x9dL\\x89\\xed:\\x0e\\x8b\"\n",
      "b'aaaMAHARA_TECH_2' b'\\xfb\\xc5\\xd3\\xbb\\x81\\x85\\xc7:\\xe1\\xb6+>\\x11f\\xaf7\\xe08\\x06\\x01z0\\xbb7\\xe9\\x9dL\\x89\\xed:\\x0e\\x8b'\n",
      "b'aaMAHARA_TECH_20' b'\\x89\\xc0\\xb53\\x03\\x8co\\x1d\\xfcZ\":\\xe5\\xf0\\x94\\xc6\\xe08\\x06\\x01z0\\xbb7\\xe9\\x9dL\\x89\\xed:\\x0e\\x8b'\n",
      "b'aMAHARA_TECH_202' b\"\\xe8\\xc6\\x97\\xeb\\xa3#'b\\xbdb\\x86\\xdb\\x813zR\\xe08\\x06\\x01z0\\xbb7\\xe9\\x9dL\\x89\\xed:\\x0e\\x8b\"\n",
      "b'MAHARA_TECH_2023' b'\\xe08\\x06\\x01z0\\xbb7\\xe9\\x9dL\\x89\\xed:\\x0e\\x8b\\xe08\\x06\\x01z0\\xbb7\\xe9\\x9dL\\x89\\xed:\\x0e\\x8b'\n"
     ]
    },
    {
     "data": {
      "text/plain": [
       "b'MAHARA_TECH_2023'"
      ]
     },
     "execution_count": 19,
     "metadata": {},
     "output_type": "execute_result"
    }
   ],
   "source": [
    "block_size = 16\n",
    "secret = b''\n",
    "for j in range(secret_string_length , -1 , -1):\n",
    "    for i in range(255):\n",
    "        plain_text = b\"a\"*j + secret + i.to_bytes(1, 'big')\n",
    "        generated_ciphertext = get_result(\"lab3\" , plain_text , byte_object=True)\n",
    "        if generated_ciphertext[:block_size] in first_cipher_blocks:\n",
    "            secret = secret + i.to_bytes(1 , 'big')\n",
    "            print(plain_text , generated_ciphertext)\n",
    "            break\n",
    "secret"
   ]
  },
  {
   "attachments": {},
   "cell_type": "markdown",
   "id": "665c5dba",
   "metadata": {},
   "source": [
    "# Lab 04 : CBC IV detection"
   ]
  },
  {
   "cell_type": "code",
   "execution_count": 20,
   "id": "1183aa72",
   "metadata": {},
   "outputs": [
    {
     "data": {
      "text/plain": [
       "'3e 86 ef 3d 06 c7 ad 1c 1a 07 a2 ae 50 2f 73 ef'"
      ]
     },
     "execution_count": 20,
     "metadata": {},
     "output_type": "execute_result"
    }
   ],
   "source": [
    "get_result('lab4_enc' , \"salah\")"
   ]
  },
  {
   "cell_type": "code",
   "execution_count": 21,
   "id": "0cfe576d",
   "metadata": {},
   "outputs": [
    {
     "data": {
      "text/plain": [
       "b'\\x02\\x17\\x17\\xbd\\xaf}r\\x83.\\x1c\\xa0\\xf4\\xefr@\\xb71\\xc5x\\xcc\\\\Q+Kn\\xa5rM7/\\x94\\xffov\\x7f\\xdc\\xdd\\x1c\\x1a\\xa3Zy\\xc3\\x9cd\\xd7\\x93r'"
      ]
     },
     "execution_count": 21,
     "metadata": {},
     "output_type": "execute_result"
    }
   ],
   "source": [
    "byte_obj = b'a'*16 + b\"\\x00\"*16 + b'a'*16\n",
    "hex_string = byte_obj.hex()\n",
    "\n",
    "# Insert a space between each pair of characters\n",
    "spaced_hex_string = ' '.join(hex_string[i:i+2] for i in range(0, len(hex_string), 2))\n",
    "\n",
    "d = get_result('lab4_dec' , spaced_hex_string , byte_object=True)\n",
    "d"
   ]
  },
  {
   "cell_type": "code",
   "execution_count": 22,
   "id": "ba1ae8c3",
   "metadata": {},
   "outputs": [
    {
     "data": {
      "text/plain": [
       "b'maharah tech\\x8b\\xa5\\xd3\\xc5'"
      ]
     },
     "execution_count": 22,
     "metadata": {},
     "output_type": "execute_result"
    }
   ],
   "source": [
    "p1 = d[:16]\n",
    "p3 = d[-16:]\n",
    "bytes([a ^ b for a, b in zip(p1, p3)])"
   ]
  },
  {
   "attachments": {},
   "cell_type": "markdown",
   "id": "5bd8069b",
   "metadata": {},
   "source": [
    "# lab 05 : CBC bit flipping"
   ]
  },
  {
   "attachments": {},
   "cell_type": "markdown",
   "id": "20a9e6b4",
   "metadata": {},
   "source": [
    "#### 0- cant access admin due to the replacement of the ; and = "
   ]
  },
  {
   "cell_type": "code",
   "execution_count": 261,
   "id": "747c6523",
   "metadata": {},
   "outputs": [
    {
     "data": {
      "text/plain": [
       "b'logged in as user'"
      ]
     },
     "execution_count": 261,
     "metadata": {},
     "output_type": "execute_result"
    }
   ],
   "source": [
    "c = get_result('lab5_generate_cookie' , \";admin=true;\" )\n",
    "get_result('lab5_login' , c , byte_object=True)"
   ]
  },
  {
   "attachments": {},
   "cell_type": "markdown",
   "id": "2883656d",
   "metadata": {},
   "source": [
    "#### 1 - get the start location of the payload in the cipher text (2 blocks then the block changes)"
   ]
  },
  {
   "cell_type": "code",
   "execution_count": 194,
   "id": "8ef930a8",
   "metadata": {},
   "outputs": [
    {
     "name": "stdout",
     "output_type": "stream",
     "text": [
      "c3 fd 03 9e 91 4b 4c 55 9c 2d 04 82 ef 4e e9 fb 5e a8 41 74 ff 8c ca 68 c0 da b6 7d 7a bb 13 4c d7 df 71 6a a2 aa 64 74 d3 8a 54 af a8 32 14 4f db 7b 11 61 4c 03 92 57 e8 db e3 47 a9 d9 c0 44 3d c2 18 98 59 bc db 43 78 df 85 a3 9c 0c aa 8f\n",
      "c3 fd 03 9e 91 4b 4c 55 9c 2d 04 82 ef 4e e9 fb 5e a8 41 74 ff 8c ca 68 c0 da b6 7d 7a bb 13 4c fa b3 63 62 04 19 35 51 f2 3d 56 f4 7e 4a e0 70 aa 58 e3 73 cf 36 f8 5d 27 57 e2 5b 42 e7 d3 b5 36 a0 d5 76 b3 95 2a 0b 26 b9 7e 5c c5 01 6f a7\n",
      "c3 fd 03 9e 91 4b 4c 55 9c 2d 04 82 ef 4e e9 fb 5e a8 41 74 ff 8c ca 68 c0 da b6 7d 7a bb 13 4c ad 46 c5 89 1d c4 6a 78 12 55 a9 94 f6 a7 ac cd 4d 1a 73 70 58 2f f3 05 29 40 34 39 db f1 78 36 9f 8a 16 20 b9 1f 2b 16 bc e0 ca b5 42 ef 4b 52\n",
      "c3 fd 03 9e 91 4b 4c 55 9c 2d 04 82 ef 4e e9 fb 5e a8 41 74 ff 8c ca 68 c0 da b6 7d 7a bb 13 4c 91 6f 3b 4e a0 8f 8f 2e a3 a8 a6 3e 55 34 df 28 48 bd 38 8c 75 d2 5d 11 78 54 35 e4 3a 97 db 9a f9 cf d1 e1 43 23 fa 43 7f 8c 94 1c df d5 50 f6\n",
      "c3 fd 03 9e 91 4b 4c 55 9c 2d 04 82 ef 4e e9 fb 5e a8 41 74 ff 8c ca 68 c0 da b6 7d 7a bb 13 4c 1b 04 78 27 38 64 d9 5e 0f 5a 00 85 dc 42 4f 87 e9 c1 24 19 8f cc 8b 93 bd f7 5c ac 94 91 48 c4 f9 72 6e 35 50 19 f4 25 b8 7d 37 1c 9c 63 26 d0\n",
      "c3 fd 03 9e 91 4b 4c 55 9c 2d 04 82 ef 4e e9 fb 5e a8 41 74 ff 8c ca 68 c0 da b6 7d 7a bb 13 4c 6b 78 55 e0 e2 28 2e f0 eb 5b 46 06 0c 58 36 c5 5c 11 2b dc bb aa a8 aa a8 a8 24 d4 4b 9a 55 71 c0 2c b5 0d fd 95 d8 7c 9f d7 52 f9 a7 e2 36 c7\n",
      "c3 fd 03 9e 91 4b 4c 55 9c 2d 04 82 ef 4e e9 fb 5e a8 41 74 ff 8c ca 68 c0 da b6 7d 7a bb 13 4c 2d 8f 30 98 0e d5 b2 e4 05 3f e2 3b 78 5d 38 a5 e5 ed d9 bf b4 78 eb 48 89 9c 53 9f 5b ee 09 30 b2 b6 e8 6d c4 00 a6 d0 f2 c9 28 fd d4 cf 4a cf\n",
      "c3 fd 03 9e 91 4b 4c 55 9c 2d 04 82 ef 4e e9 fb 5e a8 41 74 ff 8c ca 68 c0 da b6 7d 7a bb 13 4c ce 54 97 05 54 1b 63 22 16 c5 30 9f 8b 10 30 c8 95 48 56 7d f3 ae 15 5f 72 0f 2e 58 f3 e0 86 aa 6b 2f ed f0 29 78 e3 2e 1d 9a df 31 5e fb d9 48 80 21 51 d8 70 17 1e e1 35 a7 65 f8 aa b0 ef 04\n",
      "c3 fd 03 9e 91 4b 4c 55 9c 2d 04 82 ef 4e e9 fb 5e a8 41 74 ff 8c ca 68 c0 da b6 7d 7a bb 13 4c fc ee d9 10 83 0e 2b 42 41 34 2c 3b 1b 0b 16 1e fe 7c 52 4e 16 5d fa ea 28 00 de ff b2 4a db d1 62 79 1f eb a3 5d 5e a0 e9 55 b5 2a 7e f3 79 d9 22 ba 20 2d 21 90 1c e6 86 0d 34 26 77 ec 23 9d\n",
      "c3 fd 03 9e 91 4b 4c 55 9c 2d 04 82 ef 4e e9 fb 5e a8 41 74 ff 8c ca 68 c0 da b6 7d 7a bb 13 4c ae f6 b5 ac f9 23 e8 1a 58 ad 58 7e 50 34 fd 6a f4 f3 ab 49 a3 d3 47 a3 37 bb 72 3e cf 9b 57 cb 7c 69 fc 44 d6 d7 dc 05 96 ae a7 d2 60 7a 6c 04 1b dc 3a 62 dd e4 c9 78 11 80 b2 d5 09 c3 84 79\n",
      "c3 fd 03 9e 91 4b 4c 55 9c 2d 04 82 ef 4e e9 fb 5e a8 41 74 ff 8c ca 68 c0 da b6 7d 7a bb 13 4c 73 bc fd 66 86 3b 28 34 84 27 9f 45 51 76 7e 14 25 6a bc cd 7e 56 49 ba d7 8c e0 e2 ae a2 83 4d 55 9d 0e 3a 7b 4d b6 47 01 ed cd 39 c7 5f e3 39 33 40 de 8c b6 a2 2c 51 7b 3e 8d 27 1f 89 c7 4b\n",
      "c3 fd 03 9e 91 4b 4c 55 9c 2d 04 82 ef 4e e9 fb 5e a8 41 74 ff 8c ca 68 c0 da b6 7d 7a bb 13 4c e0 bd c6 98 f1 f9 c0 6d c4 1f b7 73 a3 dc cb 77 41 44 8d fd 59 0b 1b 04 53 40 c0 2b 36 a0 00 17 82 92 3d c2 7e f6 1b 00 cd 51 be fa fd bf 1e dc fc 8b c7 f2 21 89 93 91 24 3c 64 6e 0b 00 aa 73\n",
      "c3 fd 03 9e 91 4b 4c 55 9c 2d 04 82 ef 4e e9 fb 5e a8 41 74 ff 8c ca 68 c0 da b6 7d 7a bb 13 4c c1 19 c5 2b dc 85 5e 67 60 b6 d3 dc 0a aa 95 fa 00 dc cf e4 93 25 81 e7 2a 5c ac c6 5d cc b3 3e f8 a7 71 b2 31 51 fc 72 79 bc 91 06 57 e0 cf 4a ce 09 3a a2 97 e9 0b 6a ab 08 5f b1 e5 20 59 a4\n",
      "c3 fd 03 9e 91 4b 4c 55 9c 2d 04 82 ef 4e e9 fb 5e a8 41 74 ff 8c ca 68 c0 da b6 7d 7a bb 13 4c d2 00 b9 2c aa 59 77 7d cb 99 51 73 78 ff ac 3e 87 05 33 ad 89 1e 5a ed 9c 4e 9d 45 a1 0c 9d 18 11 69 6e 67 4e 1f 99 81 f3 ff b5 a2 3a de 68 83 75 78 b8 8b 96 ad 51 20 7d 35 06 23 1a 14 24 2f\n",
      "c3 fd 03 9e 91 4b 4c 55 9c 2d 04 82 ef 4e e9 fb 5e a8 41 74 ff 8c ca 68 c0 da b6 7d 7a bb 13 4c f9 08 6a bf b9 ac 8e ee 5c 54 45 62 66 a7 58 1d c6 fc 66 f3 b9 7b 5e e8 3d ef ea 4c 76 97 41 fa 47 e5 4b 82 f2 05 47 25 51 3e e5 c0 f2 7e f2 35 a6 30 c0 60 01 e9 06 31 aa 6f a7 eb c6 05 a0 7f\n",
      "c3 fd 03 9e 91 4b 4c 55 9c 2d 04 82 ef 4e e9 fb 5e a8 41 74 ff 8c ca 68 c0 da b6 7d 7a bb 13 4c 63 d3 0c 26 b9 c4 9a 9c 0f 86 c6 e9 9b 79 bb b0 b0 ef b1 9f eb 61 f8 83 c5 02 99 85 85 90 1a e7 81 3b 4d 92 02 ec d0 72 d3 7f 93 d6 ac d3 32 61 7a 15 cf 43 b9 5f 8b d5 bf c5 30 3d d6 e3 be 89\n",
      "c3 fd 03 9e 91 4b 4c 55 9c 2d 04 82 ef 4e e9 fb 5e a8 41 74 ff 8c ca 68 c0 da b6 7d 7a bb 13 4c 1c f2 95 a7 ae 07 f8 f0 59 7b 34 e6 6a a0 9b 11 d8 e4 05 6c 80 26 cf 45 30 3f da e1 c1 9a 09 ff f5 68 43 83 16 5a 16 4b 16 44 ba f1 6b 96 a0 ed be 7f a8 42 91 90 42 0b 71 81 c9 d4 25 e1 f1 07\n",
      "c3 fd 03 9e 91 4b 4c 55 9c 2d 04 82 ef 4e e9 fb 5e a8 41 74 ff 8c ca 68 c0 da b6 7d 7a bb 13 4c 1c f2 95 a7 ae 07 f8 f0 59 7b 34 e6 6a a0 9b 11 26 d9 2f 1e b0 0a b2 e8 c7 05 7c 50 93 bc 9f 93 d4 65 cf 57 82 66 e9 34 e4 9d f1 bc 62 c8 6a ea 6e 24 10 df 4d ce 00 23 0b 99 37 55 31 2e 61 26\n",
      "c3 fd 03 9e 91 4b 4c 55 9c 2d 04 82 ef 4e e9 fb 5e a8 41 74 ff 8c ca 68 c0 da b6 7d 7a bb 13 4c 1c f2 95 a7 ae 07 f8 f0 59 7b 34 e6 6a a0 9b 11 9d 0e 06 dc 1f 13 4f f2 be 18 07 33 ba b2 d9 ec d6 d2 88 b6 ae a2 98 33 2b 17 e7 da 03 13 26 2b ea eb 0e f7 0c c4 9d 7e 2a 85 6e b9 60 9f d8 26\n",
      "c3 fd 03 9e 91 4b 4c 55 9c 2d 04 82 ef 4e e9 fb 5e a8 41 74 ff 8c ca 68 c0 da b6 7d 7a bb 13 4c 1c f2 95 a7 ae 07 f8 f0 59 7b 34 e6 6a a0 9b 11 fd 36 99 96 39 db e7 47 02 7d 7e 1b 1a 84 40 fa fd 56 01 dd d9 d8 a8 59 62 15 8f bc 09 d0 f5 f0 9e c4 d5 a0 6d 9e a1 4b 99 79 ae 1d 01 ab d1 dd\n"
     ]
    }
   ],
   "source": [
    "for i in range(20):\n",
    "    c = get_result('lab5_generate_cookie' , \"a\"*i)\n",
    "    print(c)"
   ]
  },
  {
   "attachments": {},
   "cell_type": "markdown",
   "id": "1be0acef",
   "metadata": {},
   "source": [
    "#### 2- start the flipping attack\n",
    "* get the cookie string(the cipher text of the ;admin=true; payload)"
   ]
  },
  {
   "cell_type": "code",
   "execution_count": 263,
   "id": "0a8e9194",
   "metadata": {},
   "outputs": [
    {
     "data": {
      "text/plain": [
       "b\"\\xc3\\xfd\\x03\\x9e\\x91KLU\\x9c-\\x04\\x82\\xefN\\xe9\\xfb^\\xa8At\\xff\\x8c\\xcah\\xc0\\xda\\xb6}z\\xbb\\x13L/z\\xd0\\xc8\\xb6\\x1eN\\x83\\xa3q\\xbby\\xf9\\xef\\xc5\\xbaP@z\\xca\\x07\\x93'O\\x84\\x0b\\x04\\xb8\\xdb\\xf6\\xdd\\xf1\\xdfL*\\xe5\\xed\\xe6l%A8\\xd0\\xea\\xdc\\x9dC\\xde_(4}ZD\\xf1u<\\xed\\xe3\\x17\\x055D\\xa6\""
      ]
     },
     "execution_count": 263,
     "metadata": {},
     "output_type": "execute_result"
    }
   ],
   "source": [
    "c = get_result('lab5_generate_cookie' , \";admin=true;\" , byte_object=True)\n",
    "c"
   ]
  },
  {
   "attachments": {},
   "cell_type": "markdown",
   "id": "f7e80efa",
   "metadata": {},
   "source": [
    "* separate each block to deal with the block under attack only (the second block [index 1])"
   ]
  },
  {
   "cell_type": "code",
   "execution_count": 264,
   "id": "b1b2e8be",
   "metadata": {},
   "outputs": [
    {
     "data": {
      "text/plain": [
       "[b'\\xc3\\xfd\\x03\\x9e\\x91KLU\\x9c-\\x04\\x82\\xefN\\xe9\\xfb',\n",
       " b'^\\xa8At\\xff\\x8c\\xcah\\xc0\\xda\\xb6}z\\xbb\\x13L',\n",
       " b'/z\\xd0\\xc8\\xb6\\x1eN\\x83\\xa3q\\xbby\\xf9\\xef\\xc5\\xba',\n",
       " b\"P@z\\xca\\x07\\x93'O\\x84\\x0b\\x04\\xb8\\xdb\\xf6\\xdd\\xf1\",\n",
       " b'\\xdfL*\\xe5\\xed\\xe6l%A8\\xd0\\xea\\xdc\\x9dC\\xde',\n",
       " b'_(4}ZD\\xf1u<\\xed\\xe3\\x17\\x055D\\xa6']"
      ]
     },
     "execution_count": 264,
     "metadata": {},
     "output_type": "execute_result"
    }
   ],
   "source": [
    "cipher_list = []\n",
    "i = 0\n",
    "while i*16 <= len(c):\n",
    "    cipher_list.append(c[i*16: 16 + (i*16)])\n",
    "    i += 1\n",
    "cipher_list.remove(cipher_list[6]) # because it is empty\n",
    "cipher_list"
   ]
  },
  {
   "attachments": {},
   "cell_type": "markdown",
   "id": "c82bb69b",
   "metadata": {},
   "source": [
    "* flip the 0, 6 and 11 location to the desired values"
   ]
  },
  {
   "cell_type": "code",
   "execution_count": 266,
   "id": "4e508367",
   "metadata": {},
   "outputs": [
    {
     "name": "stdout",
     "output_type": "stream",
     "text": [
      "2nd cipher block before flipping:  bytearray(b'^\\xa8At\\xff\\x8c\\xcah\\xc0\\xda\\xb6}z\\xbb\\x13L')\n",
      "2nd cipher block after  flipping:  bytearray(b'Z\\xa8At\\xff\\x8c\\xc8h\\xc0\\xda\\xb6yz\\xbb\\x13L')\n"
     ]
    }
   ],
   "source": [
    "attack_block = 1\n",
    "bytearray_object = bytearray(cipher_list[attack_block])\n",
    "print(\"2nd cipher block before flipping: \" , bytearray_object)\n",
    "bytearray_object[0] = bytearray_object[0] ^ int.from_bytes(b\"?\", byteorder='big') ^ int.from_bytes(b\";\", byteorder='big')\n",
    "bytearray_object[6] = bytearray_object[6] ^ int.from_bytes(b\"?\", byteorder='big') ^ int.from_bytes(b\"=\", byteorder='big')\n",
    "bytearray_object[11] = bytearray_object[11] ^ int.from_bytes(b\"?\", byteorder='big') ^ int.from_bytes(b\";\", byteorder='big')\n",
    "print(\"2nd cipher block after  flipping: \" , bytearray_object)"
   ]
  },
  {
   "attachments": {},
   "cell_type": "markdown",
   "id": "53c8d24b",
   "metadata": {},
   "source": [
    "* rejoin the modified block with other cipher blocks"
   ]
  },
  {
   "cell_type": "code",
   "execution_count": 267,
   "id": "876ce6ef",
   "metadata": {},
   "outputs": [
    {
     "data": {
      "text/plain": [
       "'c3 fd 03 9e 91 4b 4c 55 9c 2d 04 82 ef 4e e9 fb 5a a8 41 74 ff 8c c8 68 c0 da b6 79 7a bb 13 4c 2f 7a d0 c8 b6 1e 4e 83 a3 71 bb 79 f9 ef c5 ba 50 40 7a ca 07 93 27 4f 84 0b 04 b8 db f6 dd f1 df 4c 2a e5 ed e6 6c 25 41 38 d0 ea dc 9d 43 de 5f 28 34 7d 5a 44 f1 75 3c ed e3 17 05 35 44 a6'"
      ]
     },
     "execution_count": 267,
     "metadata": {},
     "output_type": "execute_result"
    }
   ],
   "source": [
    "cipher_list [1] = bytes(bytearray_object)\n",
    "cipher_list\n",
    "cipher_text = b''\n",
    "for i in cipher_list:\n",
    "    cipher_text += i\n",
    "\n",
    "# convert it to hex string\n",
    "hex_string =  ' '.join([format(byte, '02x') for byte in cipher_text])\n",
    "hex_string"
   ]
  },
  {
   "attachments": {},
   "cell_type": "markdown",
   "id": "b30f124a",
   "metadata": {},
   "source": [
    "* try to send the modified cookie to the server"
   ]
  },
  {
   "cell_type": "code",
   "execution_count": 258,
   "id": "06f61695",
   "metadata": {},
   "outputs": [
    {
     "data": {
      "text/plain": [
       "b'logged in as admin'"
      ]
     },
     "execution_count": 258,
     "metadata": {},
     "output_type": "execute_result"
    }
   ],
   "source": [
    "get_result('lab5_login' , hex_string , byte_object=True)"
   ]
  },
  {
   "attachments": {},
   "cell_type": "markdown",
   "id": "2358cae6",
   "metadata": {},
   "source": [
    "# lab 06 : CBC byte at a time"
   ]
  },
  {
   "attachments": {},
   "cell_type": "markdown",
   "id": "b20ae881",
   "metadata": {},
   "source": [
    "# lab 07 : CBC padding"
   ]
  },
  {
   "attachments": {},
   "cell_type": "markdown",
   "id": "f0e66256",
   "metadata": {},
   "source": [
    "# lab 08 : CTR Bit flipping"
   ]
  }
 ],
 "metadata": {
  "kernelspec": {
   "display_name": "Python 3 (ipykernel)",
   "language": "python",
   "name": "python3"
  },
  "language_info": {
   "codemirror_mode": {
    "name": "ipython",
    "version": 3
   },
   "file_extension": ".py",
   "mimetype": "text/x-python",
   "name": "python",
   "nbconvert_exporter": "python",
   "pygments_lexer": "ipython3",
   "version": "3.10.9"
  }
 },
 "nbformat": 4,
 "nbformat_minor": 5
}
